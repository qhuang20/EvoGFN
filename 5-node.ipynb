{
 "cells": [
  {
   "cell_type": "code",
   "execution_count": 57,
   "metadata": {},
   "outputs": [],
   "source": [
    "import argparse\n",
    "import copy\n",
    "import gzip\n",
    "import heapq\n",
    "import itertools\n",
    "import os\n",
    "import pickle\n",
    "from collections import defaultdict\n",
    "from itertools import count, chain\n",
    "import matplotlib.pyplot as plt\n",
    "\n",
    "import numpy as np\n",
    "from scipy.stats import norm\n",
    "from tqdm import tqdm\n",
    "import torch\n",
    "import torch.nn as nn\n",
    "from torch.distributions.categorical import Categorical\n",
    "\n",
    "import numpy as np\n",
    "import matplotlib.pyplot as plt\n",
    "from scipy.integrate import odeint\n",
    "import ipywidgets as widgets\n",
    "from ipywidgets import interact\n"
   ]
  },
  {
   "cell_type": "code",
   "execution_count": 58,
   "metadata": {},
   "outputs": [],
   "source": [
    "_dev = [torch.device('cpu')]\n",
    "# tf = lambda x: torch.FloatTensor(x).to(_dev[0])\n",
    "# tl = lambda x: torch.LongTensor(x).to(_dev[0])\n",
    "tf = lambda x: torch.FloatTensor(np.array(x)).to(_dev[0])  # Convert to numpy array first\n",
    "tl = lambda x: torch.LongTensor(np.array(x)).to(_dev[0])\n",
    "\n",
    "def set_device(dev):\n",
    "    _dev[0] = dev \n",
    "\n",
    "def func_corners(x):\n",
    "    ax = abs(x)\n",
    "    return (ax > 0.5).prod(-1) * 0.5 + ((ax < 0.8) * (ax > 0.6)).prod(-1) * 2 + 1e-1\n",
    "\n",
    "\n",
    "\n",
    "# Define the sigmoid function\n",
    "def sigmoid(z):\n",
    "    return 1 / (1 + np.exp(-z))\n",
    "\n",
    "# Define the dynamical system for the n-node system with sigmoid\n",
    "def node_system_with_sigmoid(x, t, coord):\n",
    "    matrix_dim = len(x)\n",
    "    M_tilde = np.reshape(coord, (matrix_dim, matrix_dim))\n",
    "    z = M_tilde.dot(x)  # Compute M_tilde * x\n",
    "    sigmoid_z = sigmoid(z)\n",
    "    dxdt = sigmoid_z - x  # Compute the derivative   \n",
    "    return dxdt\n",
    "\n",
    "# Calculate reward given the weights\n",
    "def reward_oscillator(coord, ndim):\n",
    "    delta = 0.0001  # 0.0001\n",
    "    matrix_dim = int(np.sqrt(ndim))\n",
    "    x0 = np.linspace(0, 1, matrix_dim, endpoint=False)  # Initial conditions\n",
    "    t = np.linspace(0, 20, 200)  # Define the time points\n",
    "    sol = odeint(node_system_with_sigmoid, x0, t, args=(coord, ))\n",
    "    \n",
    "    # Calculate the total number of sharp peaks across all time series\n",
    "    total_peaks = 0\n",
    "    for i in range(matrix_dim):  # Loop through each time series x1, x2, ..., xn\n",
    "        x_i = sol[:, i]\n",
    "        dx_i = np.diff(x_i)  # First derivative approximation\n",
    "        peaks = 0\n",
    "        for j in range(1, len(dx_i)):\n",
    "            if dx_i[j-1] > 0 and dx_i[j] < 0:  # Detect a peak\n",
    "                sharpness = x_i[j] - (x_i[j-1] + x_i[j+1]) / 2\n",
    "                if sharpness > delta:  # Check if the peak is sharp\n",
    "                    peaks += 1\n",
    "        total_peaks += peaks  # Add the number of sharp peaks for this time series\n",
    "    \n",
    "    if total_peaks == 0:\n",
    "        # return 2.5e-5  # see log_reg_c\n",
    "        return 1e-1  # see log_reg_c\n",
    "    else:\n",
    "        return 3 * 10**total_peaks  # 3*10^1, 3*10^2, ... for 1, 2, ... peaks\n",
    "        # return min(total_peaks**5, 20**5)  # number of peaks   \n",
    "        # return (total_peaks/5)**6\n",
    "        # return total_peaks**2"
   ]
  },
  {
   "cell_type": "code",
   "execution_count": 59,
   "metadata": {},
   "outputs": [],
   "source": [
    "\n",
    "class GridEnv:\n",
    "\n",
    "    def __init__(self, horizon, ndim=2, num_cond_dim=0, multiplier=2, func=None):\n",
    "        self.horizon = horizon\n",
    "        self.ndim = ndim\n",
    "        self.num_obs_dim = self.horizon * self.ndim\n",
    "        self.num_cond_dim = num_cond_dim\n",
    "        self.multiplier = multiplier\n",
    "        self.func = func   # Sets the reward function.\n",
    "        self._true_density = None\n",
    " \n",
    "    def obs(self, s=None):\n",
    "        \"\"\"\n",
    "        Returns a one-hot encoded observation of the current state.\n",
    "        The observation is a flattened vector representing the agent's position in the grid.\n",
    "        \"\"\"\n",
    "        s = np.int32(self._state if s is None else s)\n",
    "        z = np.zeros((self.horizon * self.ndim), dtype=np.float32)\n",
    "        z[np.arange(len(s)) * self.horizon + s] = 1 \n",
    "        return z    # one-hot agent's current position in the grid.\n",
    "    \n",
    "    def s2x(self, s):\n",
    "        \"\"\"\n",
    "        Transform the grid of indices (state s) to spherical coordinates and then calculate the cartesian coordinates\n",
    "        (x_1, x_2, ..., x_n) for n dimensions.\n",
    "        \n",
    "        s[0]: radial distance (r)\n",
    "        s[1:n-1]: polar angles (theta_1, theta_2, ..., theta_{n-2})\n",
    "        s[n-1]: azimuthal angle (phi)\n",
    "        \n",
    "        multiplier: scalar value to multiply the state s (default is 1)\n",
    "        \"\"\"\n",
    "        # Apply the multiplier to the state s\n",
    "        s = s * self.multiplier\n",
    "        \n",
    "        # Initialize the radius (r) from the first component of the state vector\n",
    "        r = s[0]\n",
    "    \n",
    "        # Initialize an array to hold the Cartesian coordinates\n",
    "        x = np.zeros(self.ndim)\n",
    "    \n",
    "        # Constants or parameters (assuming self.horizon refers to the number of steps in the grid)\n",
    "        horizon = self.horizon\n",
    "        \n",
    "        # Calculate the spherical to Cartesian conversion\n",
    "        product = r\n",
    "        for i in range(1, self.ndim):\n",
    "            if i == self.ndim - 1:\n",
    "                # The last angle (phi) ranges from 0 to 2π\n",
    "                phi = s[i] * 2 * np.pi / horizon\n",
    "                x[i - 1] = product * np.cos(phi)\n",
    "                x[i] = product * np.sin(phi)\n",
    "            else:\n",
    "                # The other angles (theta) range from 0 to π\n",
    "                theta = s[i] * np.pi / horizon\n",
    "                x[i - 1] = product * np.sin(theta)\n",
    "                product *= np.cos(theta)\n",
    "    \n",
    "        return x\n",
    "    \n",
    "    def reset(self):\n",
    "        \"\"\"\n",
    "        Resets the environment to the initial state.\n",
    "        \"\"\"\n",
    "        self._state = np.int32([0] * self.ndim)   # start position (0,0...)\n",
    "        self._step = 0\n",
    "        return self.obs(), self.func(self.s2x(self._state), self.ndim), self._state\n",
    "\n",
    "    def parent_transitions(self, s, used_stop_action):\n",
    "        \"\"\"\n",
    "        Determines the parent states and corresponding actions that could have led to the current state.\n",
    "        \n",
    "        Parameters:\n",
    "        - s: The current state.\n",
    "        - used_stop_action: A boolean indicating if the stop action was used.\n",
    "        \n",
    "        Returns:\n",
    "        - A list of possible parent states (one-hot encoded).\n",
    "        - A list of corresponding actions.\n",
    "        \"\"\"\n",
    "        if used_stop_action:\n",
    "            return [self.obs(s)], [self.ndim]\n",
    "            \n",
    "        parents = []\n",
    "        actions = []\n",
    "        for i in range(self.ndim):\n",
    "            if s[i] > 0:\n",
    "                sp = s.copy()  # s + 0\n",
    "                sp[i] -= 1\n",
    "                if sp.max() == self.horizon - 1:  # Can't have a terminal parent\n",
    "                    continue\n",
    "                parents.append(self.obs(sp))  # Generate observation for parent state\n",
    "                actions.append(i)\n",
    "        return parents, actions\n",
    "\n",
    "    \n",
    "    def step(self, a):\n",
    "        \"\"\"\n",
    "        Updates the environment's state based on the action `a` and \n",
    "        returns the new observation, reward, done signal, and new state.\n",
    "        \"\"\"\n",
    "        s = self._state.copy()\n",
    "        if a < self.ndim:\n",
    "            s[a] += 1\n",
    "        \n",
    "        done = s.max() >= self.horizon - 1 or a == self.ndim\n",
    "        self._state = s  # Update the internal state\n",
    "        self._step += 1  # Increment step counter\n",
    "        \n",
    "        return self.obs(), 0 if not done else self.func(self.s2x(s), self.ndim), done, s\n"
   ]
  },
  {
   "cell_type": "code",
   "execution_count": 60,
   "metadata": {},
   "outputs": [],
   "source": [
    "\n",
    "\n",
    "\n",
    "class ReplayBuffer:\n",
    "    def __init__(self, args, env):\n",
    "        self.buf = []\n",
    "        self.strat = args.replay_strategy\n",
    "        self.sample_size = args.replay_sample_size\n",
    "        self.bufsize = args.replay_buf_size\n",
    "        self.env = env\n",
    "\n",
    "    def add(self, x, r_x):\n",
    "        if self.strat == 'top_k':\n",
    "            if len(self.buf) < self.bufsize or r_x > self.buf[0][0]:\n",
    "                self.buf = sorted(self.buf + [(r_x, x)])[-self.bufsize:]\n",
    "\n",
    "    def sample(self):\n",
    "        if not len(self.buf):\n",
    "            return []\n",
    "        idxs = np.random.randint(0, len(self.buf), self.sample_size)\n",
    "        return sum([self.generate_backward(*self.buf[i]) for i in idxs], [])  # Samples from the buffer and generates trajectories backward.\n",
    "\n",
    "    def generate_backward(self, r, s0):\n",
    "        s = np.int8(s0)\n",
    "        os0 = self.env.obs(s)\n",
    "        # If s0 is a forced-terminal state, the the action that leads\n",
    "        # to it is s0.argmax() which .parents finds, but if it isn't,\n",
    "        # we must indicate that the agent ended the trajectory with\n",
    "        # the stop action\n",
    "        used_stop_action = s.max() < self.env.horizon - 1\n",
    "        done = True\n",
    "        # Now we work backward from that last transition\n",
    "        traj = []\n",
    "        while s.sum() > 0:\n",
    "            parents, actions = self.env.parent_transitions(s, used_stop_action)\n",
    "            # add the transition\n",
    "            traj.append([tf(i) for i in (parents, actions, [r], [self.env.obs(s)], [done])])\n",
    "            # Then randomly choose a parent state\n",
    "            if not used_stop_action:\n",
    "                i = np.random.randint(0, len(parents))\n",
    "                a = actions[i]\n",
    "                s[a] -= 1\n",
    "            # Values for intermediary trajectory states:\n",
    "            used_stop_action = False\n",
    "            done = False\n",
    "            r = 0\n",
    "        return traj  # Generates a trajectory by working backward from a terminal state.\n",
    "\n",
    "def make_mlp(l, act=nn.LeakyReLU(), tail=[]):\n",
    "    return nn.Sequential(*(sum(\n",
    "        [[nn.Linear(i, o)] + ([act] if n < len(l)-2 else [])\n",
    "         for n, (i, o) in enumerate(zip(l, l[1:]))], []) + tail))\n",
    "    \n",
    "class FlowNetAgent:\n",
    "    def __init__(self, args, envs):\n",
    "        self.model = make_mlp([args.horizon * args.ndim] +\n",
    "                              [args.n_hid] * args.n_layers +\n",
    "                              [args.ndim+1])\n",
    "        self.model.to(args.dev)\n",
    "        self.target = copy.deepcopy(self.model)\n",
    "        self.envs = envs\n",
    "        self.ndim = args.ndim\n",
    "        self.tau = args.bootstrap_tau\n",
    "        self.replay = ReplayBuffer(args, envs[0])\n",
    "        self.log_reg_c = args.log_reg_c\n",
    "        \n",
    "        # to store training data\n",
    "        self.trn_all_losses = []\n",
    "        self.trn_all_visited_done = []\n",
    "\n",
    "\n",
    "    def parameters(self):\n",
    "        return self.model.parameters()\n",
    "\n",
    "    def sample_many(self, mbsize, all_visited_done):\n",
    "        \"\"\"Collects transition data from multiple parallel trajectories.\"\"\"\n",
    "        batch = []  # store transitions.\n",
    "        batch += self.replay.sample()\n",
    "        s = tf([i.reset()[0] for i in self.envs])\n",
    "        done = [False] * mbsize\n",
    "        while not all(done):\n",
    "            # Note to self: this is ugly, ugly code\n",
    "            with torch.no_grad():\n",
    "                acts = Categorical(logits=self.model(s)).sample()   # Samples actions based on model's logits.\n",
    "            step = [i.step(a) for i,a in zip([e for d, e in zip(done, self.envs) if not d], acts)]\n",
    "            p_a = [self.envs[0].parent_transitions(sp_state, a == self.ndim)\n",
    "                   for a, (sp, r, done, sp_state) in zip(acts, step)]\n",
    "            batch += [[tf(i) for i in (p, a, [r], [sp], [d])]\n",
    "                      for (p, a), (sp, r, d, _) in zip(p_a, step)]\n",
    "            c = count(0)\n",
    "            m = {j:next(c) for j in range(mbsize) if not done[j]}\n",
    "            done = [bool(d or step[m[i]][2]) for i, d in enumerate(done)]\n",
    "            s = tf([i[0] for i in step if not i[2]])\n",
    "            for (_, r, d, sp) in step:\n",
    "                if d:\n",
    "                    all_visited_done.append((tuple(sp), r))  # (state, reward) pairs\n",
    "                    self.replay.add(tuple(sp), r) \n",
    "        return batch  # it returns a batch of collected transitions for training. {parents, actions, reward, next_state, done}\n",
    "\n",
    "    def sample_one_traj(self):\n",
    "        \"\"\"\n",
    "        Samples a single trajectory and returns it.\n",
    "        \"\"\"\n",
    "        traj = []\n",
    "        env = self.envs[0]\n",
    "        traj.append([[], [], 0, np.int32([0] * self.ndim), False])\n",
    "        \n",
    "        s = tf(env.reset()[0])\n",
    "        done = False\n",
    "        while not done:\n",
    "            with torch.no_grad():\n",
    "                logits = self.model(s.unsqueeze(0))\n",
    "                action_dist = Categorical(logits=logits)\n",
    "                a = action_dist.sample().item()\n",
    "            sp, r, done_flag, sp_state = env.step(a)\n",
    "            parent_states, parent_actions = env.parent_transitions(sp_state, a == self.ndim)\n",
    "            traj.append([parent_states, parent_actions, r, sp_state, done_flag])\n",
    "            \n",
    "            s = tf(sp)\n",
    "            done = done_flag\n",
    "        return traj\n",
    "\n",
    "    def learn_from(self, it, batch):\n",
    "        loginf = tf([1000])\n",
    "        batch_idxs = tl(sum([[i]*len(parents) for i, (parents,_,_,_,_) in enumerate(batch)], []))\n",
    "        parents, actions, r, sp, done = map(torch.cat, zip(*batch))\n",
    "        parents_Qsa = self.model(parents)[torch.arange(parents.shape[0]), actions.long()]\n",
    "        in_flow = torch.log(self.log_reg_c + torch.zeros((sp.shape[0],))\n",
    "                            .index_add_(0, batch_idxs, torch.exp(parents_Qsa)))\n",
    "        if self.tau > 0:\n",
    "            with torch.no_grad(): next_q = self.target(sp)\n",
    "        else:\n",
    "            next_q = self.model(sp)\n",
    "        next_qd = next_q * (1-done).unsqueeze(1) + done.unsqueeze(1) * (-loginf)\n",
    "        out_flow = torch.logsumexp(torch.cat([torch.log(self.log_reg_c + r)[:, None], next_qd], 1), 1)\n",
    "        \n",
    "        term_loss = ((in_flow - out_flow) * done).pow(2).sum() / (done.sum() + 1e-20)\n",
    "        flow_loss = ((in_flow - out_flow) * (1-done)).pow(2).sum() / ((1-done).sum() + 1e-20)\n",
    "        \n",
    "        # loss = (in_flow - out_flow).pow(2).mean()\n",
    "        leaf_coef = 10\n",
    "        loss = term_loss * leaf_coef + flow_loss\n",
    "\n",
    "        if self.tau > 0:\n",
    "            for a,b in zip(self.model.parameters(), self.target.parameters()):\n",
    "                b.data.mul_(1-self.tau).add_(self.tau*a)\n",
    "\n",
    "        return loss, term_loss, flow_loss    \n",
    "\n",
    "\n"
   ]
  },
  {
   "cell_type": "code",
   "execution_count": 61,
   "metadata": {},
   "outputs": [],
   "source": [
    "class FlowNet_TBAgent:\n",
    "    def __init__(self, args, envs):\n",
    "        self.model = make_mlp([envs[0].num_obs_dim + envs[0].num_cond_dim] +\n",
    "                              [args.n_hid] * args.n_layers +\n",
    "                              [args.ndim+1])\n",
    "        self.Z = make_mlp([envs[0].num_cond_dim] + [args.n_hid // 2] * args.n_layers + [1])\n",
    "        self.model.to(args.dev)\n",
    "        self.n_forward_logits = args.ndim+1\n",
    "        self.envs = envs\n",
    "        self.ndim = args.ndim\n",
    "        \n",
    "    def forward_logits(self, x):\n",
    "        return self.model(x)[:, :self.n_forward_logits]\n",
    "\n",
    "    def parameters(self):\n",
    "        return chain(self.model.parameters(), self.Z.parameters())\n",
    "\n",
    "    def sample_many(self, mbsize, all_visited_done):\n",
    "        s = tf(np.float32([i.reset()[0] for i in self.envs]))\n",
    "        done = [False] * mbsize\n",
    "        \n",
    "        # Z = self.Z(torch.tensor([i.cond_obs for i in self.envs]).float())[:, 0]\n",
    "        # self._Z = Z.detach().numpy().reshape(-1)\n",
    "        #traj_mass = list(traj_mass) # allows x[i] += y\n",
    "        fwd_prob = [[] for _ in range(mbsize)]   \n",
    "        bck_prob = [[] for i in range(mbsize)]\n",
    "        # We will progressively add log P_F(s|), subtract log P_B(|s) and R(s)\n",
    "        while not all(done):\n",
    "            cat = Categorical(logits=self.model(s))\n",
    "            acts = cat.sample()\n",
    "            ridx = torch.tensor((np.random.uniform(0,1,acts.shape[0]) < 0.01).nonzero()[0])\n",
    "            if len(ridx):\n",
    "                racts = np.random.randint(0, cat.logits.shape[1], len(ridx))\n",
    "                acts[ridx] = torch.tensor(racts)\n",
    "            logp = cat.log_prob(acts)\n",
    "            step = [i.step(a) for i,a in zip([e for d, e in zip(done, self.envs) if not d], acts)]\n",
    "            p_a = [self.envs[0].parent_transitions(sp_state, a == self.ndim)\n",
    "                   for a, (sp, r, done, sp_state) in zip(acts, step)]\n",
    "            for i, (bi, lp, (_, r, d, sp)) in enumerate(zip(np.nonzero(np.logical_not(done))[0], logp, step)):\n",
    "                fwd_prob[bi].append(logp[i])\n",
    "                bck_prob[bi].append(torch.tensor(np.log(1/len(p_a[i][0]))).float())\n",
    "                if d:   \n",
    "                    bck_prob[bi].append(torch.tensor(np.log(r)).float())\n",
    "                    all_visited_done.append((tuple(sp), r))\n",
    "                #traj_mass[bi] = traj_mass[bi] + (\n",
    "                #    logp[i] - np.log(1/len(p_a[i][0])) - (np.log(r) if d else 0))\n",
    "            c = count(0)\n",
    "            m = {j:next(c) for j in range(mbsize) if not done[j]}\n",
    "            done = [bool(d or step[m[i]][2]) for i, d in enumerate(done)]\n",
    "            s = tf(np.float32([i[0] for i in step if not i[2]]))\n",
    "\n",
    "        numerator = torch.stack([sum(i) for i in fwd_prob])\n",
    "        denominator = torch.stack([sum(i) for i in bck_prob])\n",
    "        log_ratio = numerator - denominator\n",
    "        return log_ratio\n",
    "\n",
    "    def learn_from(self, it, batch):\n",
    "        if type(batch) is list:\n",
    "            log_ratio = torch.stack(batch, 0)\n",
    "        else:\n",
    "            log_ratio = batch\n",
    "        loss = log_ratio.pow(2).mean()\n",
    "        return loss, tf([0]), tf([0])\n"
   ]
  },
  {
   "cell_type": "code",
   "execution_count": 62,
   "metadata": {},
   "outputs": [],
   "source": [
    "# Training \n",
    "\n",
    "def make_opt(params, args):\n",
    "    params = list(params)\n",
    "    if not len(params):\n",
    "        return None\n",
    "    if args.opt == 'adam':\n",
    "        opt = torch.optim.Adam(params, args.learning_rate,\n",
    "                               betas=(args.adam_beta1, args.adam_beta2))\n",
    "    elif args.opt == 'msgd':\n",
    "        opt = torch.optim.SGD(params, args.learning_rate, momentum=args.momentum)\n",
    "    return opt\n",
    "\n",
    "def compute_empirical_reward_distribution(visited):\n",
    "    if not len(visited):\n",
    "        return {}\n",
    "    reward_hist = defaultdict(int)\n",
    "    for _, reward in visited:\n",
    "        reward_hist[reward] += 1\n",
    "    total_visits = sum(reward_hist.values())\n",
    "    empirical_distribution = {reward: count / total_visits for reward, count in reward_hist.items()}\n",
    "    return empirical_distribution\n",
    "\n",
    "\n",
    "\n",
    "all_losses = []\n",
    "all_visited_done = []\n",
    "\n",
    "def main(args):\n",
    "    args.dev = torch.device(args.device)\n",
    "    set_device(args.dev)\n",
    "    f = {'default': None,\n",
    "         'corners': func_corners,\n",
    "         'oscillator': reward_oscillator,\n",
    "    }[args.func]\n",
    "    \n",
    "    env = GridEnv(args.horizon, args.ndim, multiplier=args.multiplier, func=f)\n",
    "    envs = [GridEnv(args.horizon, args.ndim, multiplier=args.multiplier, func=f)\n",
    "            for i in range(args.mbsize)] \n",
    "    ndim = args.ndim\n",
    "    nnode = args.nnode\n",
    "\n",
    "    if args.method == 'fm':\n",
    "        agent = FlowNetAgent(args, envs)\n",
    "    elif args.method == 'tb':\n",
    "        agent = FlowNet_TBAgent(args, envs)\n",
    "    elif args.method == 'random_traj':\n",
    "        agent = RandomTrajAgent(args, envs)\n",
    "\n",
    "    opt = make_opt(agent.parameters(), args)\n",
    "\n",
    "        \n",
    "    \n",
    "    # Log file setup\n",
    "    root = args.save_path \n",
    "    log_file_path = os.path.join(root, f'trn-out-{args.nnode}-node.log')\n",
    "    os.makedirs(os.path.dirname(log_file_path), exist_ok=True)\n",
    "    with open(log_file_path, 'w') as log_file:\n",
    "    \n",
    "        # Training Loop Setup\n",
    "        \n",
    "        ttsr = max(int(args.train_to_sample_ratio), 1) # train to sample ratio\n",
    "        sttr = max(int(1/args.train_to_sample_ratio), 1) # sample to train ratio\n",
    "        \n",
    "        for i in tqdm(range(args.n_train_steps+1), disable=not args.progress):\n",
    "            data = []  # a list of transitions from a batch of trajectories\n",
    "            for j in range(sttr):\n",
    "                \"\"\"Agent samples trajectories for training.\"\"\"\n",
    "                data += agent.sample_many(args.mbsize, all_visited_done)   \n",
    "            for j in range(ttsr):\n",
    "                \"\"\"Agent updates its model using the sampled data.\"\"\"\n",
    "                losses = agent.learn_from(i * ttsr + j, data) # returns (opt loss, *metrics)\n",
    "                if losses is not None:\n",
    "                    losses[0].backward(retain_graph=(not i % 50))\n",
    "                    if args.clip_grad_norm > 0:\n",
    "                        torch.nn.utils.clip_grad_norm_(agent.parameters(),\n",
    "                                                       args.clip_grad_norm)\n",
    "                    opt.step()\n",
    "                    opt.zero_grad()\n",
    "                    all_losses.append([i.item() for i in losses])\n",
    "        \n",
    "            # Log empirical reward every 100 iterations\n",
    "            if not i % 30:\n",
    "                empirical_distribution = compute_empirical_reward_distribution(all_visited_done[-args.num_empirical_loss:])\n",
    "                print('Partial Empirical Reward Distribution:', empirical_distribution)\n",
    "                log_file.write(f'Partial Empirical Reward Distribution: {empirical_distribution}\\n')\n",
    "                log_file.flush()  # Ensure data is written to the log file\n",
    "                        \n",
    "            # Save the agent and model every 1000 iterations\n",
    "            if not i % 1000:\n",
    "                # Update agent with current all_losses and all_visited_done\n",
    "                agent.trn_all_losses = all_losses.copy()\n",
    "                agent.trn_all_visited_done = all_visited_done.copy()\n",
    "                \n",
    "                # Save the entire agent\n",
    "                agent_save_path = os.path.join(root, f\"agent_checkpoint_{i}.pkl.gz\")  \n",
    "                with gzip.open(agent_save_path, 'wb') as f: \n",
    "                    pickle.dump(agent, f)\n",
    "                print(f\"Agent checkpoint saved at iteration {i} in {nnode}.\")\n",
    "                log_file.write(f\"Agent checkpoint saved at iteration {i} in {nnode}.\\n\")\n",
    "                log_file.flush() \n",
    "            \n",
    "                # Save the agent's model separately\n",
    "                model_save_path = os.path.join(root, f\"model_checkpoint_{i}.pkl.gz\") \n",
    "                with gzip.open(model_save_path, 'wb') as f:  \n",
    "                    pickle.dump(agent.model, f)\n",
    "                print(f\"Model checkpoint saved at iteration {i} in {nnode}.\")\n",
    "                log_file.write(f\"Model checkpoint saved at iteration {i} in {nnode}.\\n\")\n",
    "                log_file.flush() \n"
   ]
  },
  {
   "cell_type": "code",
   "execution_count": 63,
   "metadata": {},
   "outputs": [
    {
     "name": "stderr",
     "output_type": "stream",
     "text": [
      "  0%|          | 1/10001 [00:02<7:49:46,  2.82s/it]"
     ]
    },
    {
     "name": "stdout",
     "output_type": "stream",
     "text": [
      "Partial Empirical Reward Distribution: {0.1: 1.0}\n",
      "Agent checkpoint saved at iteration 0 in 3.\n",
      "Model checkpoint saved at iteration 0 in 3.\n"
     ]
    },
    {
     "name": "stderr",
     "output_type": "stream",
     "text": [
      "  0%|          | 31/10001 [02:28<9:58:45,  3.60s/it] "
     ]
    },
    {
     "name": "stdout",
     "output_type": "stream",
     "text": [
      "Partial Empirical Reward Distribution: {0.1: 0.9455645161290323, 30: 0.05342741935483871, 300: 0.0010080645161290322}\n"
     ]
    },
    {
     "name": "stderr",
     "output_type": "stream",
     "text": [
      "  1%|          | 61/10001 [03:03<1:53:41,  1.46it/s]"
     ]
    },
    {
     "name": "stdout",
     "output_type": "stream",
     "text": [
      "Partial Empirical Reward Distribution: {0.1: 0.9600409836065574, 30: 0.03944672131147541, 300: 0.0005122950819672131}\n"
     ]
    },
    {
     "name": "stderr",
     "output_type": "stream",
     "text": [
      "  1%|          | 91/10001 [03:27<1:42:42,  1.61it/s]"
     ]
    },
    {
     "name": "stdout",
     "output_type": "stream",
     "text": [
      "Partial Empirical Reward Distribution: {0.1: 0.970467032967033, 30: 0.02918956043956044, 300: 0.00034340659340659343}\n"
     ]
    },
    {
     "name": "stderr",
     "output_type": "stream",
     "text": [
      "  1%|          | 121/10001 [03:53<2:22:16,  1.16it/s]"
     ]
    },
    {
     "name": "stdout",
     "output_type": "stream",
     "text": [
      "Partial Empirical Reward Distribution: {0.1: 0.971849173553719, 30: 0.027892561983471075, 300: 0.00025826446280991736}\n"
     ]
    },
    {
     "name": "stderr",
     "output_type": "stream",
     "text": [
      "  2%|▏         | 151/10001 [04:09<59:33,  2.76it/s]  "
     ]
    },
    {
     "name": "stdout",
     "output_type": "stream",
     "text": [
      "Partial Empirical Reward Distribution: {0.1: 0.9753725165562914, 30: 0.024420529801324503, 300: 0.00020695364238410596}\n"
     ]
    },
    {
     "name": "stderr",
     "output_type": "stream",
     "text": [
      "  2%|▏         | 182/10001 [04:16<31:22,  5.22it/s]  "
     ]
    },
    {
     "name": "stdout",
     "output_type": "stream",
     "text": [
      "Partial Empirical Reward Distribution: {0.1: 0.9780732044198895, 30: 0.02175414364640884, 300: 0.00017265193370165745}\n"
     ]
    },
    {
     "name": "stderr",
     "output_type": "stream",
     "text": [
      "  2%|▏         | 211/10001 [04:23<56:50,  2.87it/s]"
     ]
    },
    {
     "name": "stdout",
     "output_type": "stream",
     "text": [
      "Partial Empirical Reward Distribution: {0.1: 0.9803021327014217, 30: 0.01940165876777251, 300: 0.0002962085308056872}\n"
     ]
    },
    {
     "name": "stderr",
     "output_type": "stream",
     "text": [
      "  2%|▏         | 242/10001 [04:29<29:26,  5.52it/s]"
     ]
    },
    {
     "name": "stdout",
     "output_type": "stream",
     "text": [
      "Partial Empirical Reward Distribution: {0.1: 0.9813278008298755, 30: 0.01841286307053942, 300: 0.00025933609958506224}\n"
     ]
    },
    {
     "name": "stderr",
     "output_type": "stream",
     "text": [
      "  3%|▎         | 271/10001 [04:37<36:44,  4.41it/s]  "
     ]
    },
    {
     "name": "stdout",
     "output_type": "stream",
     "text": [
      "Partial Empirical Reward Distribution: {0.1: 0.9831642066420664, 30: 0.016605166051660517, 300: 0.00023062730627306272}\n"
     ]
    },
    {
     "name": "stderr",
     "output_type": "stream",
     "text": [
      "  3%|▎         | 301/10001 [04:44<53:33,  3.02it/s]  "
     ]
    },
    {
     "name": "stdout",
     "output_type": "stream",
     "text": [
      "Partial Empirical Reward Distribution: {0.1: 0.9847383720930233, 30: 0.015053986710963455, 300: 0.00020764119601328904}\n"
     ]
    },
    {
     "name": "stderr",
     "output_type": "stream",
     "text": [
      "  3%|▎         | 331/10001 [04:51<44:23,  3.63it/s]"
     ]
    },
    {
     "name": "stdout",
     "output_type": "stream",
     "text": [
      "Partial Empirical Reward Distribution: {0.1: 0.9860271903323263, 30: 0.013783987915407855, 300: 0.00018882175226586103}\n"
     ]
    },
    {
     "name": "stderr",
     "output_type": "stream",
     "text": [
      "  4%|▎         | 361/10001 [04:58<41:02,  3.91it/s]"
     ]
    },
    {
     "name": "stdout",
     "output_type": "stream",
     "text": [
      "Partial Empirical Reward Distribution: {0.1: 0.9871883656509696, 30: 0.012638504155124654, 300: 0.00017313019390581717}\n"
     ]
    },
    {
     "name": "stderr",
     "output_type": "stream",
     "text": [
      "  4%|▍         | 392/10001 [05:05<31:44,  5.05it/s]"
     ]
    },
    {
     "name": "stdout",
     "output_type": "stream",
     "text": [
      "Partial Empirical Reward Distribution: {0.1: 0.9878516624040921, 30: 0.01198849104859335, 300: 0.00015984654731457802}\n"
     ]
    },
    {
     "name": "stderr",
     "output_type": "stream",
     "text": [
      "  4%|▍         | 421/10001 [05:12<49:44,  3.21it/s]"
     ]
    },
    {
     "name": "stdout",
     "output_type": "stream",
     "text": [
      "Partial Empirical Reward Distribution: {0.1: 0.9886431116389549, 30: 0.011208432304038004, 300: 0.0001484560570071259}\n"
     ]
    },
    {
     "name": "stderr",
     "output_type": "stream",
     "text": [
      "  5%|▍         | 452/10001 [05:19<30:30,  5.22it/s]"
     ]
    },
    {
     "name": "stdout",
     "output_type": "stream",
     "text": [
      "Partial Empirical Reward Distribution: {0.1: 0.989329268292683, 30: 0.010532150776053215, 300: 0.0001385809312638581}\n"
     ]
    },
    {
     "name": "stderr",
     "output_type": "stream",
     "text": [
      "  5%|▍         | 482/10001 [05:25<31:12,  5.08it/s]"
     ]
    },
    {
     "name": "stdout",
     "output_type": "stream",
     "text": [
      "Partial Empirical Reward Distribution: {0.1: 0.9896699584199584, 30: 0.01020010395010395, 300: 0.00012993762993762994}\n"
     ]
    },
    {
     "name": "stderr",
     "output_type": "stream",
     "text": [
      "  5%|▌         | 511/10001 [05:32<33:38,  4.70it/s]"
     ]
    },
    {
     "name": "stdout",
     "output_type": "stream",
     "text": [
      "Partial Empirical Reward Distribution: {0.1: 0.990154109589041, 30: 0.00972358121330724, 300: 0.0001223091976516634}\n"
     ]
    },
    {
     "name": "stderr",
     "output_type": "stream",
     "text": [
      "  5%|▌         | 541/10001 [05:39<40:03,  3.94it/s]"
     ]
    },
    {
     "name": "stdout",
     "output_type": "stream",
     "text": [
      "Partial Empirical Reward Distribution: {0.1: 0.9904112754158965, 30: 0.00941543438077634, 300: 0.0001732902033271719}\n"
     ]
    },
    {
     "name": "stderr",
     "output_type": "stream",
     "text": [
      "  6%|▌         | 572/10001 [05:46<31:13,  5.03it/s]"
     ]
    },
    {
     "name": "stdout",
     "output_type": "stream",
     "text": [
      "Partial Empirical Reward Distribution: {0.1: 0.9908056042031523, 30: 0.009030210157618214, 300: 0.00016418563922942207}\n"
     ]
    },
    {
     "name": "stderr",
     "output_type": "stream",
     "text": [
      "  6%|▌         | 601/10001 [05:52<25:05,  6.24it/s]"
     ]
    },
    {
     "name": "stdout",
     "output_type": "stream",
     "text": [
      "Partial Empirical Reward Distribution: {0.1: 0.9912125623960066, 30: 0.008631447587354409, 300: 0.0001559900166389351}\n"
     ]
    },
    {
     "name": "stderr",
     "output_type": "stream",
     "text": [
      "  6%|▋         | 632/10001 [05:59<33:09,  4.71it/s]"
     ]
    },
    {
     "name": "stdout",
     "output_type": "stream",
     "text": [
      "Partial Empirical Reward Distribution: {0.1: 0.9916, 30: 0.00825, 300: 0.00015}\n"
     ]
    },
    {
     "name": "stderr",
     "output_type": "stream",
     "text": [
      "  7%|▋         | 661/10001 [06:05<48:48,  3.19it/s]"
     ]
    },
    {
     "name": "stdout",
     "output_type": "stream",
     "text": [
      "Partial Empirical Reward Distribution: {0.1: 0.99405, 30: 0.00585, 300: 0.0001}\n"
     ]
    },
    {
     "name": "stderr",
     "output_type": "stream",
     "text": [
      "  7%|▋         | 691/10001 [06:13<37:03,  4.19it/s]"
     ]
    },
    {
     "name": "stdout",
     "output_type": "stream",
     "text": [
      "Partial Empirical Reward Distribution: {0.1: 0.9946, 30: 0.0053, 300: 0.0001}\n"
     ]
    },
    {
     "name": "stderr",
     "output_type": "stream",
     "text": [
      "  7%|▋         | 722/10001 [06:18<30:02,  5.15it/s]"
     ]
    },
    {
     "name": "stdout",
     "output_type": "stream",
     "text": [
      "Partial Empirical Reward Distribution: {0.1: 0.99475, 30: 0.00515, 300: 0.0001}\n"
     ]
    },
    {
     "name": "stderr",
     "output_type": "stream",
     "text": [
      "  8%|▊         | 751/10001 [06:24<31:35,  4.88it/s]"
     ]
    },
    {
     "name": "stdout",
     "output_type": "stream",
     "text": [
      "Partial Empirical Reward Distribution: {0.1: 0.99555, 30: 0.00425, 300: 0.0002}\n"
     ]
    },
    {
     "name": "stderr",
     "output_type": "stream",
     "text": [
      "  8%|▊         | 782/10001 [06:31<28:04,  5.47it/s]"
     ]
    },
    {
     "name": "stdout",
     "output_type": "stream",
     "text": [
      "Partial Empirical Reward Distribution: {0.1: 0.9959, 30: 0.0039, 300: 0.0002}\n"
     ]
    },
    {
     "name": "stderr",
     "output_type": "stream",
     "text": [
      "  8%|▊         | 811/10001 [06:37<30:16,  5.06it/s]"
     ]
    },
    {
     "name": "stdout",
     "output_type": "stream",
     "text": [
      "Partial Empirical Reward Distribution: {0.1: 0.99555, 30: 0.00425, 300: 0.0002}\n"
     ]
    },
    {
     "name": "stderr",
     "output_type": "stream",
     "text": [
      "  8%|▊         | 841/10001 [06:44<31:54,  4.78it/s]"
     ]
    },
    {
     "name": "stdout",
     "output_type": "stream",
     "text": [
      "Partial Empirical Reward Distribution: {0.1: 0.99545, 30: 0.0044, 300: 0.00015}\n"
     ]
    },
    {
     "name": "stderr",
     "output_type": "stream",
     "text": [
      "  9%|▊         | 872/10001 [06:50<28:17,  5.38it/s]"
     ]
    },
    {
     "name": "stdout",
     "output_type": "stream",
     "text": [
      "Partial Empirical Reward Distribution: {0.1: 0.9954, 30: 0.00445, 300: 0.00015}\n"
     ]
    },
    {
     "name": "stderr",
     "output_type": "stream",
     "text": [
      "  9%|▉         | 901/10001 [06:56<33:07,  4.58it/s]"
     ]
    },
    {
     "name": "stdout",
     "output_type": "stream",
     "text": [
      "Partial Empirical Reward Distribution: {0.1: 0.99475, 30: 0.005, 300: 0.00025}\n"
     ]
    },
    {
     "name": "stderr",
     "output_type": "stream",
     "text": [
      "  9%|▉         | 931/10001 [07:04<39:11,  3.86it/s]"
     ]
    },
    {
     "name": "stdout",
     "output_type": "stream",
     "text": [
      "Partial Empirical Reward Distribution: {0.1: 0.99375, 30: 0.006, 300: 0.00025}\n"
     ]
    },
    {
     "name": "stderr",
     "output_type": "stream",
     "text": [
      " 10%|▉         | 961/10001 [07:13<52:19,  2.88it/s]"
     ]
    },
    {
     "name": "stdout",
     "output_type": "stream",
     "text": [
      "Partial Empirical Reward Distribution: {0.1: 0.9931, 30: 0.00665, 300: 0.00025}\n"
     ]
    },
    {
     "name": "stderr",
     "output_type": "stream",
     "text": [
      " 10%|▉         | 991/10001 [07:23<56:15,  2.67it/s]"
     ]
    },
    {
     "name": "stdout",
     "output_type": "stream",
     "text": [
      "Partial Empirical Reward Distribution: {0.1: 0.9906, 30: 0.00915, 300: 0.00025}\n"
     ]
    },
    {
     "name": "stderr",
     "output_type": "stream",
     "text": [
      " 10%|█         | 1001/10001 [07:27<1:26:11,  1.74it/s]"
     ]
    },
    {
     "name": "stdout",
     "output_type": "stream",
     "text": [
      "Agent checkpoint saved at iteration 1000 in 3.\n",
      "Model checkpoint saved at iteration 1000 in 3.\n"
     ]
    },
    {
     "name": "stderr",
     "output_type": "stream",
     "text": [
      " 10%|█         | 1021/10001 [07:31<32:02,  4.67it/s]  "
     ]
    },
    {
     "name": "stdout",
     "output_type": "stream",
     "text": [
      "Partial Empirical Reward Distribution: {0.1: 0.98785, 30: 0.01185, 300: 0.0003}\n"
     ]
    },
    {
     "name": "stderr",
     "output_type": "stream",
     "text": [
      " 11%|█         | 1051/10001 [07:39<32:44,  4.56it/s]"
     ]
    },
    {
     "name": "stdout",
     "output_type": "stream",
     "text": [
      "Partial Empirical Reward Distribution: {0.1: 0.9855, 30: 0.0142, 300: 0.0003}\n"
     ]
    },
    {
     "name": "stderr",
     "output_type": "stream",
     "text": [
      " 11%|█         | 1081/10001 [07:46<33:41,  4.41it/s]"
     ]
    },
    {
     "name": "stdout",
     "output_type": "stream",
     "text": [
      "Partial Empirical Reward Distribution: {0.1: 0.98135, 30: 0.01815, 300: 0.0005}\n"
     ]
    },
    {
     "name": "stderr",
     "output_type": "stream",
     "text": [
      " 11%|█         | 1111/10001 [07:55<1:42:27,  1.45it/s]"
     ]
    },
    {
     "name": "stdout",
     "output_type": "stream",
     "text": [
      "Partial Empirical Reward Distribution: {0.1: 0.98025, 30: 0.01925, 300: 0.0005}\n"
     ]
    },
    {
     "name": "stderr",
     "output_type": "stream",
     "text": [
      " 11%|█▏        | 1141/10001 [09:30<7:41:20,  3.12s/it] "
     ]
    },
    {
     "name": "stdout",
     "output_type": "stream",
     "text": [
      "Partial Empirical Reward Distribution: {0.1: 0.97895, 300: 0.00055, 30: 0.0205}\n"
     ]
    },
    {
     "name": "stderr",
     "output_type": "stream",
     "text": [
      " 12%|█▏        | 1172/10001 [09:56<31:29,  4.67it/s]  "
     ]
    },
    {
     "name": "stdout",
     "output_type": "stream",
     "text": [
      "Partial Empirical Reward Distribution: {0.1: 0.9773, 30: 0.02205, 300: 0.00065}\n"
     ]
    },
    {
     "name": "stderr",
     "output_type": "stream",
     "text": [
      " 12%|█▏        | 1202/10001 [10:02<26:46,  5.48it/s]"
     ]
    },
    {
     "name": "stdout",
     "output_type": "stream",
     "text": [
      "Partial Empirical Reward Distribution: {0.1: 0.9767, 30: 0.02265, 300: 0.00065}\n"
     ]
    },
    {
     "name": "stderr",
     "output_type": "stream",
     "text": [
      " 12%|█▏        | 1231/10001 [10:09<47:20,  3.09it/s]"
     ]
    },
    {
     "name": "stdout",
     "output_type": "stream",
     "text": [
      "Partial Empirical Reward Distribution: {0.1: 0.975, 30: 0.0243, 300: 0.0007}\n"
     ]
    },
    {
     "name": "stderr",
     "output_type": "stream",
     "text": [
      " 13%|█▎        | 1261/10001 [10:17<39:33,  3.68it/s]"
     ]
    },
    {
     "name": "stdout",
     "output_type": "stream",
     "text": [
      "Partial Empirical Reward Distribution: {0.1: 0.97125, 30: 0.02795, 300: 0.00075, 3000: 5e-05}\n"
     ]
    },
    {
     "name": "stderr",
     "output_type": "stream",
     "text": [
      " 13%|█▎        | 1291/10001 [10:25<39:18,  3.69it/s]"
     ]
    },
    {
     "name": "stdout",
     "output_type": "stream",
     "text": [
      "Partial Empirical Reward Distribution: {0.1: 0.96905, 30: 0.03005, 300: 0.0008, 3000: 0.0001}\n"
     ]
    },
    {
     "name": "stderr",
     "output_type": "stream",
     "text": [
      " 13%|█▎        | 1321/10001 [10:34<42:54,  3.37it/s]"
     ]
    },
    {
     "name": "stdout",
     "output_type": "stream",
     "text": [
      "Partial Empirical Reward Distribution: {0.1: 0.9661, 30: 0.03295, 300: 0.00085, 3000: 0.0001}\n"
     ]
    },
    {
     "name": "stderr",
     "output_type": "stream",
     "text": [
      " 14%|█▎        | 1351/10001 [10:42<29:11,  4.94it/s]"
     ]
    },
    {
     "name": "stdout",
     "output_type": "stream",
     "text": [
      "Partial Empirical Reward Distribution: {0.1: 0.9649, 30: 0.0341, 300: 0.00085, 3000: 0.00015}\n"
     ]
    },
    {
     "name": "stderr",
     "output_type": "stream",
     "text": [
      " 14%|█▍        | 1381/10001 [10:48<31:30,  4.56it/s]"
     ]
    },
    {
     "name": "stdout",
     "output_type": "stream",
     "text": [
      "Partial Empirical Reward Distribution: {0.1: 0.9648, 30: 0.0342, 300: 0.00085, 3000: 0.00015}\n"
     ]
    },
    {
     "name": "stderr",
     "output_type": "stream",
     "text": [
      " 14%|█▍        | 1411/10001 [10:55<32:02,  4.47it/s]"
     ]
    },
    {
     "name": "stdout",
     "output_type": "stream",
     "text": [
      "Partial Empirical Reward Distribution: {0.1: 0.96485, 30: 0.03415, 300: 0.00085, 3000: 0.00015}\n"
     ]
    },
    {
     "name": "stderr",
     "output_type": "stream",
     "text": [
      " 14%|█▍        | 1441/10001 [11:02<36:36,  3.90it/s]"
     ]
    },
    {
     "name": "stdout",
     "output_type": "stream",
     "text": [
      "Partial Empirical Reward Distribution: {0.1: 0.96315, 30: 0.03575, 300: 0.00095, 3000: 0.00015}\n"
     ]
    },
    {
     "name": "stderr",
     "output_type": "stream",
     "text": [
      " 15%|█▍        | 1471/10001 [11:10<40:23,  3.52it/s]"
     ]
    },
    {
     "name": "stdout",
     "output_type": "stream",
     "text": [
      "Partial Empirical Reward Distribution: {0.1: 0.96095, 30: 0.03795, 300: 0.00095, 3000: 0.00015}\n"
     ]
    },
    {
     "name": "stderr",
     "output_type": "stream",
     "text": [
      " 15%|█▌        | 1501/10001 [11:17<28:00,  5.06it/s]"
     ]
    },
    {
     "name": "stdout",
     "output_type": "stream",
     "text": [
      "Partial Empirical Reward Distribution: {0.1: 0.96, 300: 0.00095, 30: 0.0389, 3000: 0.00015}\n"
     ]
    },
    {
     "name": "stderr",
     "output_type": "stream",
     "text": [
      " 15%|█▌        | 1531/10001 [11:24<33:30,  4.21it/s]"
     ]
    },
    {
     "name": "stdout",
     "output_type": "stream",
     "text": [
      "Partial Empirical Reward Distribution: {0.1: 0.95875, 30: 0.04005, 300: 0.00105, 3000: 0.00015}\n"
     ]
    },
    {
     "name": "stderr",
     "output_type": "stream",
     "text": [
      " 16%|█▌        | 1561/10001 [11:31<35:28,  3.97it/s]"
     ]
    },
    {
     "name": "stdout",
     "output_type": "stream",
     "text": [
      "Partial Empirical Reward Distribution: {0.1: 0.95625, 30: 0.0422, 300: 0.0014, 3000: 0.00015}\n"
     ]
    },
    {
     "name": "stderr",
     "output_type": "stream",
     "text": [
      " 16%|█▌        | 1591/10001 [11:39<39:04,  3.59it/s]"
     ]
    },
    {
     "name": "stdout",
     "output_type": "stream",
     "text": [
      "Partial Empirical Reward Distribution: {0.1: 0.95345, 30: 0.04485, 300: 0.00155, 3000: 0.00015}\n"
     ]
    },
    {
     "name": "stderr",
     "output_type": "stream",
     "text": [
      " 16%|█▌        | 1621/10001 [11:48<40:17,  3.47it/s]"
     ]
    },
    {
     "name": "stdout",
     "output_type": "stream",
     "text": [
      "Partial Empirical Reward Distribution: {0.1: 0.95125, 30: 0.04705, 300: 0.00155, 3000: 0.00015}\n"
     ]
    },
    {
     "name": "stderr",
     "output_type": "stream",
     "text": [
      " 17%|█▋        | 1652/10001 [11:56<28:40,  4.85it/s]"
     ]
    },
    {
     "name": "stdout",
     "output_type": "stream",
     "text": [
      "Partial Empirical Reward Distribution: {0.1: 0.95115, 30: 0.0472, 300: 0.0015, 3000: 0.00015}\n"
     ]
    },
    {
     "name": "stderr",
     "output_type": "stream",
     "text": [
      " 17%|█▋        | 1682/10001 [12:01<22:02,  6.29it/s]"
     ]
    },
    {
     "name": "stdout",
     "output_type": "stream",
     "text": [
      "Partial Empirical Reward Distribution: {0.1: 0.9502, 30: 0.04665, 300: 0.0024, 3000: 0.00075}\n"
     ]
    },
    {
     "name": "stderr",
     "output_type": "stream",
     "text": [
      " 17%|█▋        | 1711/10001 [12:07<27:21,  5.05it/s]"
     ]
    },
    {
     "name": "stdout",
     "output_type": "stream",
     "text": [
      "Partial Empirical Reward Distribution: {0.1: 0.95405, 30: 0.04295, 300: 0.00225, 3000: 0.00075}\n"
     ]
    },
    {
     "name": "stderr",
     "output_type": "stream",
     "text": [
      " 17%|█▋        | 1741/10001 [12:14<31:54,  4.31it/s]"
     ]
    },
    {
     "name": "stdout",
     "output_type": "stream",
     "text": [
      "Partial Empirical Reward Distribution: {0.1: 0.9491, 30: 0.0476, 300: 0.0025, 3000: 0.0008}\n"
     ]
    },
    {
     "name": "stderr",
     "output_type": "stream",
     "text": [
      " 18%|█▊        | 1771/10001 [12:21<30:57,  4.43it/s]"
     ]
    },
    {
     "name": "stdout",
     "output_type": "stream",
     "text": [
      "Partial Empirical Reward Distribution: {0.1: 0.9439, 30: 0.0524, 300: 0.00285, 3000: 0.00085}\n"
     ]
    },
    {
     "name": "stderr",
     "output_type": "stream",
     "text": [
      " 18%|█▊        | 1801/10001 [12:28<33:46,  4.05it/s]"
     ]
    },
    {
     "name": "stdout",
     "output_type": "stream",
     "text": [
      "Partial Empirical Reward Distribution: {0.1: 0.9326, 30: 0.06305, 300: 0.0033, 3000: 0.00105}\n"
     ]
    },
    {
     "name": "stderr",
     "output_type": "stream",
     "text": [
      " 18%|█▊        | 1832/10001 [12:35<28:52,  4.71it/s]"
     ]
    },
    {
     "name": "stdout",
     "output_type": "stream",
     "text": [
      "Partial Empirical Reward Distribution: {0.1: 0.9253, 30: 0.06965, 300: 0.0039, 3000: 0.00115}\n"
     ]
    },
    {
     "name": "stderr",
     "output_type": "stream",
     "text": [
      " 19%|█▊        | 1862/10001 [12:41<30:21,  4.47it/s]"
     ]
    },
    {
     "name": "stdout",
     "output_type": "stream",
     "text": [
      "Partial Empirical Reward Distribution: {0.1: 0.92295, 30: 0.07145, 3000: 0.0013, 300: 0.0043}\n"
     ]
    },
    {
     "name": "stderr",
     "output_type": "stream",
     "text": [
      " 19%|█▉        | 1891/10001 [12:48<28:16,  4.78it/s]"
     ]
    },
    {
     "name": "stdout",
     "output_type": "stream",
     "text": [
      "Partial Empirical Reward Distribution: {0.1: 0.91875, 30: 0.074, 3000: 0.00155, 300: 0.0057}\n"
     ]
    },
    {
     "name": "stderr",
     "output_type": "stream",
     "text": [
      " 19%|█▉        | 1921/10001 [12:55<32:17,  4.17it/s]"
     ]
    },
    {
     "name": "stdout",
     "output_type": "stream",
     "text": [
      "Partial Empirical Reward Distribution: {0.1: 0.91185, 30: 0.0799, 300: 0.0067, 3000: 0.00155}\n"
     ]
    },
    {
     "name": "stderr",
     "output_type": "stream",
     "text": [
      " 20%|█▉        | 1951/10001 [13:01<23:36,  5.68it/s]"
     ]
    },
    {
     "name": "stdout",
     "output_type": "stream",
     "text": [
      "Partial Empirical Reward Distribution: {0.1: 0.9108, 30: 0.0804, 300: 0.00725, 3000: 0.00155}\n"
     ]
    },
    {
     "name": "stderr",
     "output_type": "stream",
     "text": [
      " 20%|█▉        | 1981/10001 [13:07<23:35,  5.67it/s]"
     ]
    },
    {
     "name": "stdout",
     "output_type": "stream",
     "text": [
      "Partial Empirical Reward Distribution: {0.1: 0.9114, 300: 0.00725, 30: 0.0798, 3000: 0.00155}\n"
     ]
    },
    {
     "name": "stderr",
     "output_type": "stream",
     "text": [
      " 20%|██        | 2001/10001 [13:13<1:46:43,  1.25it/s]"
     ]
    },
    {
     "name": "stdout",
     "output_type": "stream",
     "text": [
      "Agent checkpoint saved at iteration 2000 in 3.\n",
      "Model checkpoint saved at iteration 2000 in 3.\n"
     ]
    },
    {
     "name": "stderr",
     "output_type": "stream",
     "text": [
      " 20%|██        | 2012/10001 [13:15<29:18,  4.54it/s]  "
     ]
    },
    {
     "name": "stdout",
     "output_type": "stream",
     "text": [
      "Partial Empirical Reward Distribution: {0.1: 0.91035, 30: 0.08085, 300: 0.00725, 3000: 0.00155}\n"
     ]
    },
    {
     "name": "stderr",
     "output_type": "stream",
     "text": [
      " 20%|██        | 2041/10001 [13:22<29:44,  4.46it/s]"
     ]
    },
    {
     "name": "stdout",
     "output_type": "stream",
     "text": [
      "Partial Empirical Reward Distribution: {0.1: 0.90765, 30: 0.08315, 300: 0.00765, 3000: 0.00155}\n"
     ]
    },
    {
     "name": "stderr",
     "output_type": "stream",
     "text": [
      " 21%|██        | 2071/10001 [13:28<37:44,  3.50it/s]"
     ]
    },
    {
     "name": "stdout",
     "output_type": "stream",
     "text": [
      "Partial Empirical Reward Distribution: {0.1: 0.90495, 30: 0.08555, 300: 0.00785, 3000: 0.00165}\n"
     ]
    },
    {
     "name": "stderr",
     "output_type": "stream",
     "text": [
      " 21%|██        | 2102/10001 [13:36<24:28,  5.38it/s]"
     ]
    },
    {
     "name": "stdout",
     "output_type": "stream",
     "text": [
      "Partial Empirical Reward Distribution: {0.1: 0.90675, 30: 0.08345, 300: 0.0081, 3000: 0.0017}\n"
     ]
    },
    {
     "name": "stderr",
     "output_type": "stream",
     "text": [
      " 21%|██▏       | 2132/10001 [13:42<24:03,  5.45it/s]"
     ]
    },
    {
     "name": "stdout",
     "output_type": "stream",
     "text": [
      "Partial Empirical Reward Distribution: {0.1: 0.9038, 30: 0.0858, 300: 0.0085, 3000: 0.0019}\n"
     ]
    },
    {
     "name": "stderr",
     "output_type": "stream",
     "text": [
      " 22%|██▏       | 2162/10001 [13:50<27:27,  4.76it/s]"
     ]
    },
    {
     "name": "stdout",
     "output_type": "stream",
     "text": [
      "Partial Empirical Reward Distribution: {0.1: 0.90175, 300: 0.00915, 30: 0.0868, 3000: 0.0023}\n"
     ]
    },
    {
     "name": "stderr",
     "output_type": "stream",
     "text": [
      " 22%|██▏       | 2191/10001 [13:58<33:52,  3.84it/s]"
     ]
    },
    {
     "name": "stdout",
     "output_type": "stream",
     "text": [
      "Partial Empirical Reward Distribution: {0.1: 0.89655, 30: 0.0892, 300: 0.0107, 3000: 0.00355}\n"
     ]
    },
    {
     "name": "stderr",
     "output_type": "stream",
     "text": [
      " 22%|██▏       | 2221/10001 [14:06<35:58,  3.60it/s]"
     ]
    },
    {
     "name": "stdout",
     "output_type": "stream",
     "text": [
      "Partial Empirical Reward Distribution: {0.1: 0.8905, 30: 0.09115, 300: 0.013, 3000: 0.00535}\n"
     ]
    },
    {
     "name": "stderr",
     "output_type": "stream",
     "text": [
      " 23%|██▎       | 2252/10001 [14:14<29:33,  4.37it/s]"
     ]
    },
    {
     "name": "stdout",
     "output_type": "stream",
     "text": [
      "Partial Empirical Reward Distribution: {0.1: 0.8776, 30: 0.0948, 300: 0.01825, 3000: 0.00935}\n"
     ]
    },
    {
     "name": "stderr",
     "output_type": "stream",
     "text": [
      " 23%|██▎       | 2282/10001 [14:22<25:03,  5.13it/s]"
     ]
    },
    {
     "name": "stdout",
     "output_type": "stream",
     "text": [
      "Partial Empirical Reward Distribution: {0.1: 0.8613, 30: 0.10535, 300: 0.02215, 3000: 0.0112}\n"
     ]
    },
    {
     "name": "stderr",
     "output_type": "stream",
     "text": [
      " 23%|██▎       | 2311/10001 [14:30<32:00,  4.00it/s]"
     ]
    },
    {
     "name": "stdout",
     "output_type": "stream",
     "text": [
      "Partial Empirical Reward Distribution: {0.1: 0.85815, 30: 0.1066, 300: 0.02265, 3000: 0.0126}\n"
     ]
    },
    {
     "name": "stderr",
     "output_type": "stream",
     "text": [
      " 23%|██▎       | 2341/10001 [14:37<27:21,  4.67it/s]"
     ]
    },
    {
     "name": "stdout",
     "output_type": "stream",
     "text": [
      "Partial Empirical Reward Distribution: {0.1: 0.84765, 30: 0.11215, 3000: 0.015, 300: 0.0252}\n"
     ]
    },
    {
     "name": "stderr",
     "output_type": "stream",
     "text": [
      " 24%|██▎       | 2371/10001 [14:43<25:23,  5.01it/s]"
     ]
    },
    {
     "name": "stdout",
     "output_type": "stream",
     "text": [
      "Partial Empirical Reward Distribution: {0.1: 0.84205, 30: 0.1147, 300: 0.02735, 3000: 0.0159}\n"
     ]
    },
    {
     "name": "stderr",
     "output_type": "stream",
     "text": [
      " 24%|██▍       | 2402/10001 [14:49<25:32,  4.96it/s]"
     ]
    },
    {
     "name": "stdout",
     "output_type": "stream",
     "text": [
      "Partial Empirical Reward Distribution: {0.1: 0.8378, 30: 0.11545, 300: 0.02895, 3000: 0.0178}\n"
     ]
    },
    {
     "name": "stderr",
     "output_type": "stream",
     "text": [
      " 24%|██▍       | 2431/10001 [14:56<31:41,  3.98it/s]"
     ]
    },
    {
     "name": "stdout",
     "output_type": "stream",
     "text": [
      "Partial Empirical Reward Distribution: {0.1: 0.8261, 30: 0.11435, 300: 0.03495, 3000: 0.0246}\n"
     ]
    },
    {
     "name": "stderr",
     "output_type": "stream",
     "text": [
      " 25%|██▍       | 2461/10001 [15:02<28:26,  4.42it/s]"
     ]
    },
    {
     "name": "stdout",
     "output_type": "stream",
     "text": [
      "Partial Empirical Reward Distribution: {0.1: 0.80565, 30: 0.1182, 300: 0.04385, 3000: 0.0323}\n"
     ]
    },
    {
     "name": "stderr",
     "output_type": "stream",
     "text": [
      " 25%|██▍       | 2491/10001 [15:09<30:20,  4.12it/s]"
     ]
    },
    {
     "name": "stdout",
     "output_type": "stream",
     "text": [
      "Partial Empirical Reward Distribution: {0.1: 0.7806, 300: 0.05435, 30: 0.1243, 3000: 0.04075}\n"
     ]
    },
    {
     "name": "stderr",
     "output_type": "stream",
     "text": [
      " 25%|██▌       | 2521/10001 [15:16<33:07,  3.76it/s]"
     ]
    },
    {
     "name": "stdout",
     "output_type": "stream",
     "text": [
      "Partial Empirical Reward Distribution: {0.1: 0.77335, 30: 0.12725, 300: 0.05655, 3000: 0.04285}\n"
     ]
    },
    {
     "name": "stderr",
     "output_type": "stream",
     "text": [
      " 26%|██▌       | 2551/10001 [15:23<28:51,  4.30it/s]"
     ]
    },
    {
     "name": "stdout",
     "output_type": "stream",
     "text": [
      "Partial Empirical Reward Distribution: {0.1: 0.7602, 30: 0.13195, 300: 0.06115, 3000: 0.0467}\n"
     ]
    },
    {
     "name": "stderr",
     "output_type": "stream",
     "text": [
      " 26%|██▌       | 2581/10001 [15:31<28:43,  4.30it/s]"
     ]
    },
    {
     "name": "stdout",
     "output_type": "stream",
     "text": [
      "Partial Empirical Reward Distribution: {0.1: 0.7357, 30: 0.14235, 300: 0.0686, 3000: 0.05335}\n"
     ]
    },
    {
     "name": "stderr",
     "output_type": "stream",
     "text": [
      " 26%|██▌       | 2611/10001 [15:38<31:00,  3.97it/s]"
     ]
    },
    {
     "name": "stdout",
     "output_type": "stream",
     "text": [
      "Partial Empirical Reward Distribution: {0.1: 0.70515, 300: 0.0779, 30: 0.1568, 3000: 0.06015}\n"
     ]
    },
    {
     "name": "stderr",
     "output_type": "stream",
     "text": [
      " 26%|██▋       | 2641/10001 [15:45<33:25,  3.67it/s]"
     ]
    },
    {
     "name": "stdout",
     "output_type": "stream",
     "text": [
      "Partial Empirical Reward Distribution: {0.1: 0.6795, 30: 0.17025, 300: 0.08535, 3000: 0.0649}\n"
     ]
    },
    {
     "name": "stderr",
     "output_type": "stream",
     "text": [
      " 27%|██▋       | 2671/10001 [15:53<30:12,  4.04it/s]"
     ]
    },
    {
     "name": "stdout",
     "output_type": "stream",
     "text": [
      "Partial Empirical Reward Distribution: {0.1: 0.6489, 30: 0.1842, 300: 0.09515, 3000: 0.07175}\n"
     ]
    },
    {
     "name": "stderr",
     "output_type": "stream",
     "text": [
      " 27%|██▋       | 2701/10001 [16:01<31:36,  3.85it/s]"
     ]
    },
    {
     "name": "stdout",
     "output_type": "stream",
     "text": [
      "Partial Empirical Reward Distribution: {0.1: 0.62405, 30: 0.1976, 300: 0.10245, 3000: 0.0759}\n"
     ]
    },
    {
     "name": "stderr",
     "output_type": "stream",
     "text": [
      " 27%|██▋       | 2731/10001 [16:08<29:29,  4.11it/s]"
     ]
    },
    {
     "name": "stdout",
     "output_type": "stream",
     "text": [
      "Partial Empirical Reward Distribution: {0.1: 0.5986, 30: 0.2106, 300: 0.11075, 3000: 0.08005}\n"
     ]
    },
    {
     "name": "stderr",
     "output_type": "stream",
     "text": [
      " 28%|██▊       | 2761/10001 [16:15<28:16,  4.27it/s]"
     ]
    },
    {
     "name": "stdout",
     "output_type": "stream",
     "text": [
      "Partial Empirical Reward Distribution: {0.1: 0.57265, 30: 0.22345, 300: 0.11845, 3000: 0.08545}\n"
     ]
    },
    {
     "name": "stderr",
     "output_type": "stream",
     "text": [
      " 28%|██▊       | 2791/10001 [16:22<31:07,  3.86it/s]"
     ]
    },
    {
     "name": "stdout",
     "output_type": "stream",
     "text": [
      "Partial Empirical Reward Distribution: {0.1: 0.5444, 3000: 0.0924, 30: 0.23465, 300: 0.12855}\n"
     ]
    },
    {
     "name": "stderr",
     "output_type": "stream",
     "text": [
      " 28%|██▊       | 2821/10001 [16:29<28:15,  4.24it/s]"
     ]
    },
    {
     "name": "stdout",
     "output_type": "stream",
     "text": [
      "Partial Empirical Reward Distribution: {0.1: 0.51525, 30: 0.24575, 300: 0.13785, 3000: 0.10115}\n"
     ]
    },
    {
     "name": "stderr",
     "output_type": "stream",
     "text": [
      " 29%|██▊       | 2851/10001 [16:37<31:05,  3.83it/s]"
     ]
    },
    {
     "name": "stdout",
     "output_type": "stream",
     "text": [
      "Partial Empirical Reward Distribution: {0.1: 0.4879, 30: 0.2525, 300: 0.14915, 3000: 0.11045}\n"
     ]
    },
    {
     "name": "stderr",
     "output_type": "stream",
     "text": [
      " 29%|██▉       | 2881/10001 [16:44<28:18,  4.19it/s]"
     ]
    },
    {
     "name": "stdout",
     "output_type": "stream",
     "text": [
      "Partial Empirical Reward Distribution: {0.1: 0.46625, 30: 0.25975, 3000: 0.1173, 300: 0.1567}\n"
     ]
    },
    {
     "name": "stderr",
     "output_type": "stream",
     "text": [
      " 29%|██▉       | 2911/10001 [16:52<30:03,  3.93it/s]"
     ]
    },
    {
     "name": "stdout",
     "output_type": "stream",
     "text": [
      "Partial Empirical Reward Distribution: {0.1: 0.4478, 3000: 0.12285, 30: 0.26325, 300: 0.1661}\n"
     ]
    },
    {
     "name": "stderr",
     "output_type": "stream",
     "text": [
      " 29%|██▉       | 2941/10001 [17:00<33:51,  3.48it/s]"
     ]
    },
    {
     "name": "stdout",
     "output_type": "stream",
     "text": [
      "Partial Empirical Reward Distribution: {0.1: 0.42205, 300: 0.17525, 30: 0.2749, 3000: 0.1278}\n"
     ]
    },
    {
     "name": "stderr",
     "output_type": "stream",
     "text": [
      " 30%|██▉       | 2971/10001 [17:08<30:02,  3.90it/s]"
     ]
    },
    {
     "name": "stdout",
     "output_type": "stream",
     "text": [
      "Partial Empirical Reward Distribution: {0.1: 0.3975, 30: 0.2835, 300: 0.1854, 3000: 0.1336}\n"
     ]
    },
    {
     "name": "stderr",
     "output_type": "stream",
     "text": [
      " 30%|██▉       | 3000/10001 [17:15<24:47,  4.71it/s]"
     ]
    },
    {
     "name": "stdout",
     "output_type": "stream",
     "text": [
      "Partial Empirical Reward Distribution: {0.1: 0.39025, 30: 0.28515, 300: 0.1889, 3000: 0.1357}\n"
     ]
    },
    {
     "name": "stderr",
     "output_type": "stream",
     "text": [
      " 30%|███       | 3001/10001 [17:18<2:06:43,  1.09s/it]"
     ]
    },
    {
     "name": "stdout",
     "output_type": "stream",
     "text": [
      "Agent checkpoint saved at iteration 3000 in 3.\n",
      "Model checkpoint saved at iteration 3000 in 3.\n"
     ]
    },
    {
     "name": "stderr",
     "output_type": "stream",
     "text": [
      " 30%|███       | 3031/10001 [17:25<27:51,  4.17it/s]  "
     ]
    },
    {
     "name": "stdout",
     "output_type": "stream",
     "text": [
      "Partial Empirical Reward Distribution: {0.1: 0.37275, 30: 0.2913, 300: 0.19675, 3000: 0.1392}\n"
     ]
    },
    {
     "name": "stderr",
     "output_type": "stream",
     "text": [
      " 31%|███       | 3061/10001 [17:33<31:07,  3.72it/s]"
     ]
    },
    {
     "name": "stdout",
     "output_type": "stream",
     "text": [
      "Partial Empirical Reward Distribution: {0.1: 0.3665, 30: 0.2926, 3000: 0.1395, 300: 0.2014}\n"
     ]
    },
    {
     "name": "stderr",
     "output_type": "stream",
     "text": [
      " 31%|███       | 3091/10001 [17:40<27:09,  4.24it/s]"
     ]
    },
    {
     "name": "stdout",
     "output_type": "stream",
     "text": [
      "Partial Empirical Reward Distribution: {0.1: 0.3692, 3000: 0.13275, 300: 0.1968, 30: 0.30125}\n"
     ]
    },
    {
     "name": "stderr",
     "output_type": "stream",
     "text": [
      " 31%|███       | 3121/10001 [17:48<27:04,  4.24it/s]"
     ]
    },
    {
     "name": "stdout",
     "output_type": "stream",
     "text": [
      "Partial Empirical Reward Distribution: {0.1: 0.3647, 30: 0.3135, 300: 0.19385, 3000: 0.12795}\n"
     ]
    },
    {
     "name": "stderr",
     "output_type": "stream",
     "text": [
      " 32%|███▏      | 3151/10001 [17:55<28:12,  4.05it/s]"
     ]
    },
    {
     "name": "stdout",
     "output_type": "stream",
     "text": [
      "Partial Empirical Reward Distribution: {0.1: 0.35065, 30: 0.3232, 3000: 0.1276, 300: 0.19855}\n"
     ]
    },
    {
     "name": "stderr",
     "output_type": "stream",
     "text": [
      " 32%|███▏      | 3181/10001 [18:02<27:39,  4.11it/s]"
     ]
    },
    {
     "name": "stdout",
     "output_type": "stream",
     "text": [
      "Partial Empirical Reward Distribution: {0.1: 0.33755, 30: 0.3304, 3000: 0.1282, 300: 0.20385}\n"
     ]
    },
    {
     "name": "stderr",
     "output_type": "stream",
     "text": [
      " 32%|███▏      | 3211/10001 [18:11<37:46,  3.00it/s]"
     ]
    },
    {
     "name": "stdout",
     "output_type": "stream",
     "text": [
      "Partial Empirical Reward Distribution: {30: 0.3369, 300: 0.20925, 0.1: 0.32565, 3000: 0.1282}\n"
     ]
    },
    {
     "name": "stderr",
     "output_type": "stream",
     "text": [
      " 32%|███▏      | 3242/10001 [18:19<26:55,  4.18it/s]"
     ]
    },
    {
     "name": "stdout",
     "output_type": "stream",
     "text": [
      "Partial Empirical Reward Distribution: {0.1: 0.3165, 300: 0.21465, 30: 0.34025, 3000: 0.1286}\n"
     ]
    },
    {
     "name": "stderr",
     "output_type": "stream",
     "text": [
      " 33%|███▎      | 3271/10001 [18:26<24:38,  4.55it/s]"
     ]
    },
    {
     "name": "stdout",
     "output_type": "stream",
     "text": [
      "Partial Empirical Reward Distribution: {0.1: 0.3067, 30: 0.344, 3000: 0.1296, 300: 0.2197}\n"
     ]
    },
    {
     "name": "stderr",
     "output_type": "stream",
     "text": [
      " 33%|███▎      | 3301/10001 [18:34<25:40,  4.35it/s]"
     ]
    },
    {
     "name": "stdout",
     "output_type": "stream",
     "text": [
      "Partial Empirical Reward Distribution: {30: 0.34615, 3000: 0.1267, 0.1: 0.30725, 300: 0.2199}\n"
     ]
    },
    {
     "name": "stderr",
     "output_type": "stream",
     "text": [
      " 33%|███▎      | 3332/10001 [18:40<19:43,  5.64it/s]"
     ]
    },
    {
     "name": "stdout",
     "output_type": "stream",
     "text": [
      "Partial Empirical Reward Distribution: {0.1: 0.29365, 30: 0.3438, 300: 0.22635, 3000: 0.1362}\n"
     ]
    },
    {
     "name": "stderr",
     "output_type": "stream",
     "text": [
      " 34%|███▎      | 3361/10001 [18:47<30:07,  3.67it/s]"
     ]
    },
    {
     "name": "stdout",
     "output_type": "stream",
     "text": [
      "Partial Empirical Reward Distribution: {0.1: 0.2793, 30: 0.33615, 300: 0.23795, 3000: 0.1466}\n"
     ]
    },
    {
     "name": "stderr",
     "output_type": "stream",
     "text": [
      " 34%|███▍      | 3392/10001 [18:55<26:06,  4.22it/s]"
     ]
    },
    {
     "name": "stdout",
     "output_type": "stream",
     "text": [
      "Partial Empirical Reward Distribution: {0.1: 0.26695, 300: 0.2522, 3000: 0.1534, 30: 0.32745}\n"
     ]
    },
    {
     "name": "stderr",
     "output_type": "stream",
     "text": [
      " 34%|███▍      | 3421/10001 [19:02<34:34,  3.17it/s]"
     ]
    },
    {
     "name": "stdout",
     "output_type": "stream",
     "text": [
      "Partial Empirical Reward Distribution: {0.1: 0.25705, 30: 0.3188, 3000: 0.15835, 300: 0.2658}\n"
     ]
    },
    {
     "name": "stderr",
     "output_type": "stream",
     "text": [
      " 35%|███▍      | 3452/10001 [19:10<23:39,  4.61it/s]"
     ]
    },
    {
     "name": "stdout",
     "output_type": "stream",
     "text": [
      "Partial Empirical Reward Distribution: {0.1: 0.25405, 3000: 0.1614, 300: 0.27415, 30: 0.3104}\n"
     ]
    },
    {
     "name": "stderr",
     "output_type": "stream",
     "text": [
      " 39%|███▊      | 3871/10001 [20:53<25:07,  4.07it/s]"
     ]
    },
    {
     "name": "stdout",
     "output_type": "stream",
     "text": [
      "Partial Empirical Reward Distribution: {30: 0.15065, 300: 0.36675, 3000: 0.2428, 0.1: 0.2398}\n"
     ]
    },
    {
     "name": "stderr",
     "output_type": "stream",
     "text": [
      " 39%|███▉      | 3902/10001 [21:00<20:24,  4.98it/s]"
     ]
    },
    {
     "name": "stdout",
     "output_type": "stream",
     "text": [
      "Partial Empirical Reward Distribution: {0.1: 0.2505, 30: 0.14605, 3000: 0.24345, 300: 0.36}\n"
     ]
    },
    {
     "name": "stderr",
     "output_type": "stream",
     "text": [
      " 39%|███▉      | 3931/10001 [21:07<23:01,  4.39it/s]"
     ]
    },
    {
     "name": "stdout",
     "output_type": "stream",
     "text": [
      "Partial Empirical Reward Distribution: {30: 0.1397, 0.1: 0.257, 300: 0.35815, 3000: 0.24515}\n"
     ]
    },
    {
     "name": "stderr",
     "output_type": "stream",
     "text": [
      " 40%|███▉      | 3962/10001 [21:14<22:34,  4.46it/s]"
     ]
    },
    {
     "name": "stdout",
     "output_type": "stream",
     "text": [
      "Partial Empirical Reward Distribution: {0.1: 0.27235, 30: 0.1399, 3000: 0.2353, 300: 0.35245}\n"
     ]
    },
    {
     "name": "stderr",
     "output_type": "stream",
     "text": [
      " 40%|███▉      | 3991/10001 [21:21<22:38,  4.42it/s]"
     ]
    },
    {
     "name": "stdout",
     "output_type": "stream",
     "text": [
      "Partial Empirical Reward Distribution: {300: 0.335, 3000: 0.223, 30: 0.144, 0.1: 0.298}\n"
     ]
    },
    {
     "name": "stderr",
     "output_type": "stream",
     "text": [
      " 40%|████      | 4001/10001 [21:27<2:13:08,  1.33s/it]"
     ]
    },
    {
     "name": "stdout",
     "output_type": "stream",
     "text": [
      "Agent checkpoint saved at iteration 4000 in 3.\n",
      "Model checkpoint saved at iteration 4000 in 3.\n"
     ]
    },
    {
     "name": "stderr",
     "output_type": "stream",
     "text": [
      " 40%|████      | 4021/10001 [21:32<27:41,  3.60it/s]  "
     ]
    },
    {
     "name": "stdout",
     "output_type": "stream",
     "text": [
      "Partial Empirical Reward Distribution: {30: 0.1521, 3000: 0.21455, 300: 0.3189, 0.1: 0.31445}\n"
     ]
    },
    {
     "name": "stderr",
     "output_type": "stream",
     "text": [
      " 41%|████      | 4051/10001 [21:39<23:48,  4.17it/s]"
     ]
    },
    {
     "name": "stdout",
     "output_type": "stream",
     "text": [
      "Partial Empirical Reward Distribution: {30: 0.1591, 3000: 0.21055, 300: 0.3061, 0.1: 0.32425}\n"
     ]
    },
    {
     "name": "stderr",
     "output_type": "stream",
     "text": [
      " 41%|████      | 4081/10001 [21:46<22:44,  4.34it/s]"
     ]
    },
    {
     "name": "stdout",
     "output_type": "stream",
     "text": [
      "Partial Empirical Reward Distribution: {3000: 0.20285, 300: 0.2968, 0.1: 0.3294, 30: 0.17095}\n"
     ]
    },
    {
     "name": "stderr",
     "output_type": "stream",
     "text": [
      " 41%|████      | 4112/10001 [21:54<20:39,  4.75it/s]"
     ]
    },
    {
     "name": "stdout",
     "output_type": "stream",
     "text": [
      "Partial Empirical Reward Distribution: {300: 0.2849, 3000: 0.19515, 30: 0.1832, 0.1: 0.33675}\n"
     ]
    },
    {
     "name": "stderr",
     "output_type": "stream",
     "text": [
      " 41%|████▏     | 4141/10001 [22:01<26:00,  3.75it/s]"
     ]
    },
    {
     "name": "stdout",
     "output_type": "stream",
     "text": [
      "Partial Empirical Reward Distribution: {3000: 0.18515, 300: 0.2721, 30: 0.1953, 0.1: 0.34745}\n"
     ]
    },
    {
     "name": "stderr",
     "output_type": "stream",
     "text": [
      " 42%|████▏     | 4171/10001 [22:08<27:39,  3.51it/s]"
     ]
    },
    {
     "name": "stdout",
     "output_type": "stream",
     "text": [
      "Partial Empirical Reward Distribution: {300: 0.26045, 3000: 0.17865, 30: 0.20665, 0.1: 0.35425}\n"
     ]
    },
    {
     "name": "stderr",
     "output_type": "stream",
     "text": [
      " 42%|████▏     | 4201/10001 [22:16<25:48,  3.75it/s]"
     ]
    },
    {
     "name": "stdout",
     "output_type": "stream",
     "text": [
      "Partial Empirical Reward Distribution: {3000: 0.1766, 300: 0.24905, 30: 0.2159, 0.1: 0.35845}\n"
     ]
    },
    {
     "name": "stderr",
     "output_type": "stream",
     "text": [
      " 42%|████▏     | 4231/10001 [22:24<23:11,  4.15it/s]"
     ]
    },
    {
     "name": "stdout",
     "output_type": "stream",
     "text": [
      "Partial Empirical Reward Distribution: {30: 0.22425, 300: 0.2333, 3000: 0.17225, 0.1: 0.3702}\n"
     ]
    },
    {
     "name": "stderr",
     "output_type": "stream",
     "text": [
      " 43%|████▎     | 4261/10001 [22:31<24:49,  3.85it/s]"
     ]
    },
    {
     "name": "stdout",
     "output_type": "stream",
     "text": [
      "Partial Empirical Reward Distribution: {0.1: 0.37865, 3000: 0.1665, 300: 0.22155, 30: 0.2333}\n"
     ]
    },
    {
     "name": "stderr",
     "output_type": "stream",
     "text": [
      " 43%|████▎     | 4291/10001 [22:39<24:24,  3.90it/s]"
     ]
    },
    {
     "name": "stdout",
     "output_type": "stream",
     "text": [
      "Partial Empirical Reward Distribution: {300: 0.2223, 3000: 0.1631, 0.1: 0.37465, 30: 0.23995}\n"
     ]
    },
    {
     "name": "stderr",
     "output_type": "stream",
     "text": [
      " 43%|████▎     | 4322/10001 [22:46<18:08,  5.22it/s]"
     ]
    },
    {
     "name": "stdout",
     "output_type": "stream",
     "text": [
      "Partial Empirical Reward Distribution: {300: 0.21915, 30: 0.2521, 3000: 0.15085, 0.1: 0.3779}\n"
     ]
    },
    {
     "name": "stderr",
     "output_type": "stream",
     "text": [
      " 44%|████▎     | 4352/10001 [22:52<17:05,  5.51it/s]"
     ]
    },
    {
     "name": "stdout",
     "output_type": "stream",
     "text": [
      "Partial Empirical Reward Distribution: {3000: 0.141, 30: 0.2642, 300: 0.2084, 0.1: 0.3864}\n"
     ]
    },
    {
     "name": "stderr",
     "output_type": "stream",
     "text": [
      " 44%|████▍     | 4382/10001 [22:58<17:41,  5.29it/s]"
     ]
    },
    {
     "name": "stdout",
     "output_type": "stream",
     "text": [
      "Partial Empirical Reward Distribution: {0.1: 0.3663, 3000: 0.14145, 30: 0.28005, 300: 0.2122}\n"
     ]
    },
    {
     "name": "stderr",
     "output_type": "stream",
     "text": [
      " 44%|████▍     | 4411/10001 [23:04<23:04,  4.04it/s]"
     ]
    },
    {
     "name": "stdout",
     "output_type": "stream",
     "text": [
      "Partial Empirical Reward Distribution: {0.1: 0.34505, 30: 0.29665, 3000: 0.14035, 300: 0.21795}\n"
     ]
    },
    {
     "name": "stderr",
     "output_type": "stream",
     "text": [
      " 44%|████▍     | 4441/10001 [23:12<23:39,  3.92it/s]"
     ]
    },
    {
     "name": "stdout",
     "output_type": "stream",
     "text": [
      "Partial Empirical Reward Distribution: {0.1: 0.32795, 3000: 0.13795, 30: 0.3122, 300: 0.2219}\n"
     ]
    },
    {
     "name": "stderr",
     "output_type": "stream",
     "text": [
      " 45%|████▍     | 4471/10001 [23:19<24:23,  3.78it/s]"
     ]
    },
    {
     "name": "stdout",
     "output_type": "stream",
     "text": [
      "Partial Empirical Reward Distribution: {0.1: 0.30635, 30: 0.327, 3000: 0.13695, 300: 0.2297}\n"
     ]
    },
    {
     "name": "stderr",
     "output_type": "stream",
     "text": [
      " 45%|████▌     | 4501/10001 [23:27<26:32,  3.45it/s]"
     ]
    },
    {
     "name": "stdout",
     "output_type": "stream",
     "text": [
      "Partial Empirical Reward Distribution: {0.1: 0.28095, 3000: 0.14315, 300: 0.23895, 30: 0.33695}\n"
     ]
    },
    {
     "name": "stderr",
     "output_type": "stream",
     "text": [
      " 45%|████▌     | 4531/10001 [23:35<25:06,  3.63it/s]"
     ]
    },
    {
     "name": "stdout",
     "output_type": "stream",
     "text": [
      "Partial Empirical Reward Distribution: {0.1: 0.2657, 30: 0.34095, 300: 0.24645, 3000: 0.1469}\n"
     ]
    },
    {
     "name": "stderr",
     "output_type": "stream",
     "text": [
      " 46%|████▌     | 4561/10001 [23:43<23:27,  3.87it/s]"
     ]
    },
    {
     "name": "stdout",
     "output_type": "stream",
     "text": [
      "Partial Empirical Reward Distribution: {0.1: 0.24975, 30: 0.3451, 3000: 0.15175, 300: 0.2534}\n"
     ]
    },
    {
     "name": "stderr",
     "output_type": "stream",
     "text": [
      " 46%|████▌     | 4591/10001 [23:52<28:41,  3.14it/s]"
     ]
    },
    {
     "name": "stdout",
     "output_type": "stream",
     "text": [
      "Partial Empirical Reward Distribution: {0.1: 0.2333, 30: 0.3494, 3000: 0.15835, 300: 0.25895}\n"
     ]
    },
    {
     "name": "stderr",
     "output_type": "stream",
     "text": [
      " 46%|████▌     | 4621/10001 [23:59<19:05,  4.70it/s]"
     ]
    },
    {
     "name": "stdout",
     "output_type": "stream",
     "text": [
      "Partial Empirical Reward Distribution: {0.1: 0.2092, 30: 0.35345, 3000: 0.1675, 300: 0.26985}\n"
     ]
    },
    {
     "name": "stderr",
     "output_type": "stream",
     "text": [
      " 47%|████▋     | 4651/10001 [24:05<18:01,  4.95it/s]"
     ]
    },
    {
     "name": "stdout",
     "output_type": "stream",
     "text": [
      "Partial Empirical Reward Distribution: {0.1: 0.19325, 30: 0.35405, 3000: 0.17525, 300: 0.27745}\n"
     ]
    },
    {
     "name": "stderr",
     "output_type": "stream",
     "text": [
      " 47%|████▋     | 4682/10001 [24:14<26:30,  3.34it/s]"
     ]
    },
    {
     "name": "stdout",
     "output_type": "stream",
     "text": [
      "Partial Empirical Reward Distribution: {0.1: 0.1872, 30: 0.3577, 300: 0.27995, 3000: 0.17515}\n"
     ]
    },
    {
     "name": "stderr",
     "output_type": "stream",
     "text": [
      " 47%|████▋     | 4712/10001 [24:20<16:03,  5.49it/s]"
     ]
    },
    {
     "name": "stdout",
     "output_type": "stream",
     "text": [
      "Partial Empirical Reward Distribution: {0.1: 0.18155, 30: 0.3537, 300: 0.28185, 3000: 0.1829}\n"
     ]
    },
    {
     "name": "stderr",
     "output_type": "stream",
     "text": [
      " 47%|████▋     | 4742/10001 [24:26<16:59,  5.16it/s]"
     ]
    },
    {
     "name": "stdout",
     "output_type": "stream",
     "text": [
      "Partial Empirical Reward Distribution: {0.1: 0.17175, 30: 0.35115, 3000: 0.19305, 300: 0.28405}\n"
     ]
    },
    {
     "name": "stderr",
     "output_type": "stream",
     "text": [
      " 48%|████▊     | 4772/10001 [24:32<17:15,  5.05it/s]"
     ]
    },
    {
     "name": "stdout",
     "output_type": "stream",
     "text": [
      "Partial Empirical Reward Distribution: {30: 0.34815, 300: 0.2881, 3000: 0.20285, 0.1: 0.1609}\n"
     ]
    },
    {
     "name": "stderr",
     "output_type": "stream",
     "text": [
      " 48%|████▊     | 4802/10001 [24:37<17:22,  4.99it/s]"
     ]
    },
    {
     "name": "stdout",
     "output_type": "stream",
     "text": [
      "Partial Empirical Reward Distribution: {30: 0.34665, 300: 0.2915, 3000: 0.20685, 0.1: 0.155}\n"
     ]
    },
    {
     "name": "stderr",
     "output_type": "stream",
     "text": [
      " 48%|████▊     | 4832/10001 [24:43<16:56,  5.08it/s]"
     ]
    },
    {
     "name": "stdout",
     "output_type": "stream",
     "text": [
      "Partial Empirical Reward Distribution: {300: 0.29195, 30: 0.347, 3000: 0.20875, 0.1: 0.1523}\n"
     ]
    },
    {
     "name": "stderr",
     "output_type": "stream",
     "text": [
      " 49%|████▊     | 4861/10001 [24:49<17:16,  4.96it/s]"
     ]
    },
    {
     "name": "stdout",
     "output_type": "stream",
     "text": [
      "Partial Empirical Reward Distribution: {0.1: 0.14115, 30: 0.3483, 300: 0.29505, 3000: 0.2155}\n"
     ]
    },
    {
     "name": "stderr",
     "output_type": "stream",
     "text": [
      " 49%|████▉     | 4892/10001 [24:56<16:36,  5.13it/s]"
     ]
    },
    {
     "name": "stdout",
     "output_type": "stream",
     "text": [
      "Partial Empirical Reward Distribution: {0.1: 0.13465, 30: 0.34695, 3000: 0.2203, 300: 0.2981}\n"
     ]
    },
    {
     "name": "stderr",
     "output_type": "stream",
     "text": [
      " 49%|████▉     | 4922/10001 [25:02<17:03,  4.96it/s]"
     ]
    },
    {
     "name": "stdout",
     "output_type": "stream",
     "text": [
      "Partial Empirical Reward Distribution: {30: 0.34825, 300: 0.2971, 3000: 0.22095, 0.1: 0.1337}\n"
     ]
    },
    {
     "name": "stderr",
     "output_type": "stream",
     "text": [
      " 50%|████▉     | 4952/10001 [25:08<16:32,  5.09it/s]"
     ]
    },
    {
     "name": "stdout",
     "output_type": "stream",
     "text": [
      "Partial Empirical Reward Distribution: {30: 0.34675, 0.1: 0.1297, 3000: 0.22475, 300: 0.2988}\n"
     ]
    },
    {
     "name": "stderr",
     "output_type": "stream",
     "text": [
      " 50%|████▉     | 4981/10001 [25:14<21:50,  3.83it/s]"
     ]
    },
    {
     "name": "stdout",
     "output_type": "stream",
     "text": [
      "Partial Empirical Reward Distribution: {0.1: 0.12205, 300: 0.30635, 3000: 0.229, 30: 0.3426}\n"
     ]
    },
    {
     "name": "stderr",
     "output_type": "stream",
     "text": [
      " 50%|█████     | 5001/10001 [25:24<2:13:16,  1.60s/it]"
     ]
    },
    {
     "name": "stdout",
     "output_type": "stream",
     "text": [
      "Agent checkpoint saved at iteration 5000 in 3.\n",
      "Model checkpoint saved at iteration 5000 in 3.\n"
     ]
    },
    {
     "name": "stderr",
     "output_type": "stream",
     "text": [
      " 50%|█████     | 5011/10001 [25:27<24:34,  3.38it/s]  "
     ]
    },
    {
     "name": "stdout",
     "output_type": "stream",
     "text": [
      "Partial Empirical Reward Distribution: {3000: 0.2337, 30: 0.33985, 0.1: 0.11545, 300: 0.311}\n"
     ]
    },
    {
     "name": "stderr",
     "output_type": "stream",
     "text": [
      " 50%|█████     | 5041/10001 [25:35<21:58,  3.76it/s]"
     ]
    },
    {
     "name": "stdout",
     "output_type": "stream",
     "text": [
      "Partial Empirical Reward Distribution: {30: 0.3354, 0.1: 0.10805, 3000: 0.23885, 300: 0.3177}\n"
     ]
    },
    {
     "name": "stderr",
     "output_type": "stream",
     "text": [
      " 51%|█████     | 5071/10001 [25:42<20:31,  4.00it/s]"
     ]
    },
    {
     "name": "stdout",
     "output_type": "stream",
     "text": [
      "Partial Empirical Reward Distribution: {3000: 0.24455, 30: 0.32785, 300: 0.32135, 0.1: 0.10625}\n"
     ]
    },
    {
     "name": "stderr",
     "output_type": "stream",
     "text": [
      " 51%|█████     | 5101/10001 [25:50<20:09,  4.05it/s]"
     ]
    },
    {
     "name": "stdout",
     "output_type": "stream",
     "text": [
      "Partial Empirical Reward Distribution: {30: 0.31935, 300: 0.324, 3000: 0.2544, 0.1: 0.10225}\n"
     ]
    },
    {
     "name": "stderr",
     "output_type": "stream",
     "text": [
      " 51%|█████▏    | 5131/10001 [25:58<20:51,  3.89it/s]"
     ]
    },
    {
     "name": "stdout",
     "output_type": "stream",
     "text": [
      "Partial Empirical Reward Distribution: {3000: 0.26365, 30: 0.31195, 300: 0.3255, 0.1: 0.0989}\n"
     ]
    },
    {
     "name": "stderr",
     "output_type": "stream",
     "text": [
      " 52%|█████▏    | 5161/10001 [26:06<21:09,  3.81it/s]"
     ]
    },
    {
     "name": "stdout",
     "output_type": "stream",
     "text": [
      "Partial Empirical Reward Distribution: {3000: 0.2683, 30: 0.3064, 0.1: 0.09875, 300: 0.32655}\n"
     ]
    },
    {
     "name": "stderr",
     "output_type": "stream",
     "text": [
      " 52%|█████▏    | 5191/10001 [26:14<21:29,  3.73it/s]"
     ]
    },
    {
     "name": "stdout",
     "output_type": "stream",
     "text": [
      "Partial Empirical Reward Distribution: {3000: 0.2712, 300: 0.32955, 30: 0.30145, 0.1: 0.0978}\n"
     ]
    },
    {
     "name": "stderr",
     "output_type": "stream",
     "text": [
      " 52%|█████▏    | 5221/10001 [26:22<20:46,  3.83it/s]"
     ]
    },
    {
     "name": "stdout",
     "output_type": "stream",
     "text": [
      "Partial Empirical Reward Distribution: {3000: 0.2744, 300: 0.3332, 30: 0.2967, 0.1: 0.0957}\n"
     ]
    },
    {
     "name": "stderr",
     "output_type": "stream",
     "text": [
      " 53%|█████▎    | 5251/10001 [26:30<21:19,  3.71it/s]"
     ]
    },
    {
     "name": "stdout",
     "output_type": "stream",
     "text": [
      "Partial Empirical Reward Distribution: {30: 0.29265, 3000: 0.27635, 300: 0.33725, 0.1: 0.09375}\n"
     ]
    },
    {
     "name": "stderr",
     "output_type": "stream",
     "text": [
      " 53%|█████▎    | 5281/10001 [26:38<21:01,  3.74it/s]"
     ]
    },
    {
     "name": "stdout",
     "output_type": "stream",
     "text": [
      "Partial Empirical Reward Distribution: {3000: 0.27965, 300: 0.3388, 30: 0.2893, 0.1: 0.09225}\n"
     ]
    },
    {
     "name": "stderr",
     "output_type": "stream",
     "text": [
      " 53%|█████▎    | 5311/10001 [26:45<17:58,  4.35it/s]"
     ]
    },
    {
     "name": "stdout",
     "output_type": "stream",
     "text": [
      "Partial Empirical Reward Distribution: {30: 0.2816, 0.1: 0.1044, 300: 0.33345, 3000: 0.28055}\n"
     ]
    },
    {
     "name": "stderr",
     "output_type": "stream",
     "text": [
      " 53%|█████▎    | 5342/10001 [26:51<14:18,  5.43it/s]"
     ]
    },
    {
     "name": "stdout",
     "output_type": "stream",
     "text": [
      "Partial Empirical Reward Distribution: {0.1: 0.1141, 30: 0.27385, 300: 0.3348, 3000: 0.27725}\n"
     ]
    },
    {
     "name": "stderr",
     "output_type": "stream",
     "text": [
      " 54%|█████▎    | 5372/10001 [26:57<14:36,  5.28it/s]"
     ]
    },
    {
     "name": "stdout",
     "output_type": "stream",
     "text": [
      "Partial Empirical Reward Distribution: {30: 0.266, 3000: 0.2779, 300: 0.3348, 0.1: 0.1213}\n"
     ]
    },
    {
     "name": "stderr",
     "output_type": "stream",
     "text": [
      " 54%|█████▍    | 5402/10001 [27:02<10:17,  7.44it/s]"
     ]
    },
    {
     "name": "stdout",
     "output_type": "stream",
     "text": [
      "Partial Empirical Reward Distribution: {30: 0.2578, 0.1: 0.14065, 3000: 0.2709, 300: 0.33065}\n"
     ]
    },
    {
     "name": "stderr",
     "output_type": "stream",
     "text": [
      " 54%|█████▍    | 5432/10001 [27:06<11:48,  6.45it/s]"
     ]
    },
    {
     "name": "stdout",
     "output_type": "stream",
     "text": [
      "Partial Empirical Reward Distribution: {0.1: 0.17845, 3000: 0.2611, 300: 0.3146, 30: 0.24585}\n"
     ]
    },
    {
     "name": "stderr",
     "output_type": "stream",
     "text": [
      " 55%|█████▍    | 5461/10001 [27:11<11:48,  6.41it/s]"
     ]
    },
    {
     "name": "stdout",
     "output_type": "stream",
     "text": [
      "Partial Empirical Reward Distribution: {0.1: 0.18425, 30: 0.24085, 3000: 0.26705, 300: 0.30785}\n"
     ]
    },
    {
     "name": "stderr",
     "output_type": "stream",
     "text": [
      " 55%|█████▍    | 5491/10001 [27:18<21:30,  3.50it/s]"
     ]
    },
    {
     "name": "stdout",
     "output_type": "stream",
     "text": [
      "Partial Empirical Reward Distribution: {30: 0.2301, 300: 0.30385, 3000: 0.28355, 0.1: 0.1825}\n"
     ]
    },
    {
     "name": "stderr",
     "output_type": "stream",
     "text": [
      " 55%|█████▌    | 5521/10001 [27:24<12:45,  5.85it/s]"
     ]
    },
    {
     "name": "stdout",
     "output_type": "stream",
     "text": [
      "Partial Empirical Reward Distribution: {30: 0.2207, 3000: 0.30425, 300: 0.2939, 0.1: 0.18115}\n"
     ]
    },
    {
     "name": "stderr",
     "output_type": "stream",
     "text": [
      " 56%|█████▌    | 5551/10001 [27:31<16:22,  4.53it/s]"
     ]
    },
    {
     "name": "stdout",
     "output_type": "stream",
     "text": [
      "Partial Empirical Reward Distribution: {30: 0.2065, 300: 0.28455, 3000: 0.3306, 0.1: 0.17835}\n"
     ]
    },
    {
     "name": "stderr",
     "output_type": "stream",
     "text": [
      " 56%|█████▌    | 5581/10001 [27:38<18:04,  4.08it/s]"
     ]
    },
    {
     "name": "stdout",
     "output_type": "stream",
     "text": [
      "Partial Empirical Reward Distribution: {0.1: 0.1754, 300: 0.27865, 3000: 0.3519, 30: 0.19405}\n"
     ]
    },
    {
     "name": "stderr",
     "output_type": "stream",
     "text": [
      " 56%|█████▌    | 5611/10001 [27:44<17:23,  4.21it/s]"
     ]
    },
    {
     "name": "stdout",
     "output_type": "stream",
     "text": [
      "Partial Empirical Reward Distribution: {3000: 0.36275, 300: 0.27415, 30: 0.19, 0.1: 0.1731}\n"
     ]
    },
    {
     "name": "stderr",
     "output_type": "stream",
     "text": [
      " 56%|█████▋    | 5642/10001 [27:51<12:33,  5.78it/s]"
     ]
    },
    {
     "name": "stdout",
     "output_type": "stream",
     "text": [
      "Partial Empirical Reward Distribution: {300: 0.2688, 0.1: 0.16955, 30: 0.1841, 3000: 0.37755}\n"
     ]
    },
    {
     "name": "stderr",
     "output_type": "stream",
     "text": [
      " 57%|█████▋    | 5672/10001 [27:57<13:04,  5.52it/s]"
     ]
    },
    {
     "name": "stdout",
     "output_type": "stream",
     "text": [
      "Partial Empirical Reward Distribution: {300: 0.2605, 3000: 0.39785, 30: 0.1753, 0.1: 0.16635}\n"
     ]
    },
    {
     "name": "stderr",
     "output_type": "stream",
     "text": [
      " 57%|█████▋    | 5701/10001 [28:05<16:39,  4.30it/s]"
     ]
    },
    {
     "name": "stdout",
     "output_type": "stream",
     "text": [
      "Partial Empirical Reward Distribution: {30: 0.16655, 3000: 0.41625, 300: 0.2555, 0.1: 0.1617}\n"
     ]
    },
    {
     "name": "stderr",
     "output_type": "stream",
     "text": [
      " 57%|█████▋    | 5732/10001 [28:12<14:38,  4.86it/s]"
     ]
    },
    {
     "name": "stdout",
     "output_type": "stream",
     "text": [
      "Partial Empirical Reward Distribution: {300: 0.24715, 3000: 0.43185, 30: 0.1605, 0.1: 0.1605}\n"
     ]
    },
    {
     "name": "stderr",
     "output_type": "stream",
     "text": [
      " 58%|█████▊    | 5762/10001 [28:17<12:26,  5.68it/s]"
     ]
    },
    {
     "name": "stdout",
     "output_type": "stream",
     "text": [
      "Partial Empirical Reward Distribution: {0.1: 0.15845, 300: 0.24105, 3000: 0.44845, 30: 0.15205}\n"
     ]
    },
    {
     "name": "stderr",
     "output_type": "stream",
     "text": [
      " 58%|█████▊    | 5792/10001 [28:23<12:59,  5.40it/s]"
     ]
    },
    {
     "name": "stdout",
     "output_type": "stream",
     "text": [
      "Partial Empirical Reward Distribution: {3000: 0.46905, 30: 0.14165, 300: 0.23405, 0.1: 0.15525}\n"
     ]
    },
    {
     "name": "stderr",
     "output_type": "stream",
     "text": [
      " 58%|█████▊    | 5822/10001 [28:28<12:10,  5.72it/s]"
     ]
    },
    {
     "name": "stdout",
     "output_type": "stream",
     "text": [
      "Partial Empirical Reward Distribution: {0.1: 0.1539, 3000: 0.48765, 30: 0.13155, 300: 0.2269}\n"
     ]
    },
    {
     "name": "stderr",
     "output_type": "stream",
     "text": [
      " 59%|█████▊    | 5852/10001 [28:34<12:19,  5.61it/s]"
     ]
    },
    {
     "name": "stdout",
     "output_type": "stream",
     "text": [
      "Partial Empirical Reward Distribution: {3000: 0.50905, 300: 0.2175, 30: 0.1219, 0.1: 0.15155}\n"
     ]
    },
    {
     "name": "stderr",
     "output_type": "stream",
     "text": [
      " 59%|█████▉    | 5881/10001 [28:40<17:16,  3.97it/s]"
     ]
    },
    {
     "name": "stdout",
     "output_type": "stream",
     "text": [
      "Partial Empirical Reward Distribution: {3000: 0.5332, 0.1: 0.1494, 300: 0.2055, 30: 0.1119}\n"
     ]
    },
    {
     "name": "stderr",
     "output_type": "stream",
     "text": [
      " 59%|█████▉    | 5911/10001 [28:47<12:51,  5.30it/s]"
     ]
    },
    {
     "name": "stdout",
     "output_type": "stream",
     "text": [
      "Partial Empirical Reward Distribution: {0.1: 0.1487, 3000: 0.5482, 30: 0.1023, 300: 0.2008}\n"
     ]
    },
    {
     "name": "stderr",
     "output_type": "stream",
     "text": [
      " 59%|█████▉    | 5942/10001 [28:53<12:36,  5.36it/s]"
     ]
    },
    {
     "name": "stdout",
     "output_type": "stream",
     "text": [
      "Partial Empirical Reward Distribution: {0.1: 0.1294, 30: 0.0968, 3000: 0.5695, 300: 0.2043}\n"
     ]
    },
    {
     "name": "stderr",
     "output_type": "stream",
     "text": [
      " 60%|█████▉    | 5971/10001 [29:00<20:55,  3.21it/s]"
     ]
    },
    {
     "name": "stdout",
     "output_type": "stream",
     "text": [
      "Partial Empirical Reward Distribution: {300: 0.20005, 3000: 0.59205, 0.1: 0.1171, 30: 0.0908}\n"
     ]
    },
    {
     "name": "stderr",
     "output_type": "stream",
     "text": [
      " 60%|█████▉    | 6000/10001 [29:06<11:58,  5.57it/s]"
     ]
    },
    {
     "name": "stdout",
     "output_type": "stream",
     "text": [
      "Partial Empirical Reward Distribution: {0.1: 0.1085, 3000: 0.6102, 300: 0.19565, 30: 0.08565}\n"
     ]
    },
    {
     "name": "stderr",
     "output_type": "stream",
     "text": [
      " 60%|██████    | 6001/10001 [29:11<2:01:36,  1.82s/it]"
     ]
    },
    {
     "name": "stdout",
     "output_type": "stream",
     "text": [
      "Agent checkpoint saved at iteration 6000 in 3.\n",
      "Model checkpoint saved at iteration 6000 in 3.\n"
     ]
    },
    {
     "name": "stderr",
     "output_type": "stream",
     "text": [
      " 60%|██████    | 6031/10001 [29:20<18:11,  3.64it/s]  "
     ]
    },
    {
     "name": "stdout",
     "output_type": "stream",
     "text": [
      "Partial Empirical Reward Distribution: {0.1: 0.0813, 30: 0.08205, 3000: 0.63865, 300: 0.198}\n"
     ]
    },
    {
     "name": "stderr",
     "output_type": "stream",
     "text": [
      " 61%|██████    | 6061/10001 [29:28<18:44,  3.50it/s]"
     ]
    },
    {
     "name": "stdout",
     "output_type": "stream",
     "text": [
      "Partial Empirical Reward Distribution: {0.1: 0.046, 30: 0.0797, 300: 0.20505, 3000: 0.66925}\n"
     ]
    },
    {
     "name": "stderr",
     "output_type": "stream",
     "text": [
      " 61%|██████    | 6092/10001 [29:36<12:58,  5.02it/s]"
     ]
    },
    {
     "name": "stdout",
     "output_type": "stream",
     "text": [
      "Partial Empirical Reward Distribution: {300: 0.2042, 3000: 0.68465, 30: 0.0703, 0.1: 0.04085}\n"
     ]
    },
    {
     "name": "stderr",
     "output_type": "stream",
     "text": [
      " 61%|██████    | 6122/10001 [29:42<11:45,  5.49it/s]"
     ]
    },
    {
     "name": "stdout",
     "output_type": "stream",
     "text": [
      "Partial Empirical Reward Distribution: {3000: 0.68815, 30: 0.06805, 300: 0.2034, 0.1: 0.0404}\n"
     ]
    },
    {
     "name": "stderr",
     "output_type": "stream",
     "text": [
      " 62%|██████▏   | 6152/10001 [29:48<12:10,  5.27it/s]"
     ]
    },
    {
     "name": "stdout",
     "output_type": "stream",
     "text": [
      "Partial Empirical Reward Distribution: {30: 0.06735, 3000: 0.68335, 300: 0.2083, 0.1: 0.041}\n"
     ]
    },
    {
     "name": "stderr",
     "output_type": "stream",
     "text": [
      " 62%|██████▏   | 6181/10001 [29:55<16:06,  3.95it/s]"
     ]
    },
    {
     "name": "stdout",
     "output_type": "stream",
     "text": [
      "Partial Empirical Reward Distribution: {300: 0.2108, 3000: 0.68015, 30: 0.06785, 0.1: 0.0412}\n"
     ]
    },
    {
     "name": "stderr",
     "output_type": "stream",
     "text": [
      " 62%|██████▏   | 6212/10001 [30:03<14:46,  4.27it/s]"
     ]
    },
    {
     "name": "stdout",
     "output_type": "stream",
     "text": [
      "Partial Empirical Reward Distribution: {300: 0.20975, 30: 0.06625, 3000: 0.6827, 0.1: 0.0413}\n"
     ]
    },
    {
     "name": "stderr",
     "output_type": "stream",
     "text": [
      " 62%|██████▏   | 6242/10001 [30:09<11:59,  5.23it/s]"
     ]
    },
    {
     "name": "stdout",
     "output_type": "stream",
     "text": [
      "Partial Empirical Reward Distribution: {300: 0.21145, 3000: 0.6903, 30: 0.0579, 0.1: 0.04035}\n"
     ]
    },
    {
     "name": "stderr",
     "output_type": "stream",
     "text": [
      " 63%|██████▎   | 6271/10001 [30:15<16:18,  3.81it/s]"
     ]
    },
    {
     "name": "stdout",
     "output_type": "stream",
     "text": [
      "Partial Empirical Reward Distribution: {30: 0.0521, 3000: 0.6935, 300: 0.21295, 0.1: 0.04145}\n"
     ]
    },
    {
     "name": "stderr",
     "output_type": "stream",
     "text": [
      " 63%|██████▎   | 6301/10001 [30:23<13:30,  4.56it/s]"
     ]
    },
    {
     "name": "stdout",
     "output_type": "stream",
     "text": [
      "Partial Empirical Reward Distribution: {3000: 0.6946, 300: 0.2141, 30: 0.0501, 0.1: 0.0412}\n"
     ]
    },
    {
     "name": "stderr",
     "output_type": "stream",
     "text": [
      " 63%|██████▎   | 6331/10001 [30:32<17:26,  3.51it/s]"
     ]
    },
    {
     "name": "stdout",
     "output_type": "stream",
     "text": [
      "Partial Empirical Reward Distribution: {300: 0.2163, 30: 0.0477, 3000: 0.69455, 0.1: 0.04145}\n"
     ]
    },
    {
     "name": "stderr",
     "output_type": "stream",
     "text": [
      " 64%|██████▎   | 6361/10001 [30:41<18:55,  3.21it/s]"
     ]
    },
    {
     "name": "stdout",
     "output_type": "stream",
     "text": [
      "Partial Empirical Reward Distribution: {300: 0.21805, 30: 0.04815, 3000: 0.69035, 0.1: 0.04345}\n"
     ]
    },
    {
     "name": "stderr",
     "output_type": "stream",
     "text": [
      " 64%|██████▍   | 6392/10001 [30:49<11:23,  5.28it/s]"
     ]
    },
    {
     "name": "stdout",
     "output_type": "stream",
     "text": [
      "Partial Empirical Reward Distribution: {3000: 0.689, 300: 0.2192, 30: 0.04775, 0.1: 0.04405}\n"
     ]
    },
    {
     "name": "stderr",
     "output_type": "stream",
     "text": [
      " 64%|██████▍   | 6422/10001 [30:55<10:43,  5.57it/s]"
     ]
    },
    {
     "name": "stdout",
     "output_type": "stream",
     "text": [
      "Partial Empirical Reward Distribution: {30: 0.04815, 300: 0.2208, 3000: 0.68655, 0.1: 0.0445}\n"
     ]
    },
    {
     "name": "stderr",
     "output_type": "stream",
     "text": [
      " 65%|██████▍   | 6452/10001 [31:00<11:19,  5.23it/s]"
     ]
    },
    {
     "name": "stdout",
     "output_type": "stream",
     "text": [
      "Partial Empirical Reward Distribution: {300: 0.22045, 3000: 0.68815, 0.1: 0.044, 30: 0.0474}\n"
     ]
    },
    {
     "name": "stderr",
     "output_type": "stream",
     "text": [
      " 65%|██████▍   | 6481/10001 [31:09<21:43,  2.70it/s]"
     ]
    },
    {
     "name": "stdout",
     "output_type": "stream",
     "text": [
      "Partial Empirical Reward Distribution: {300: 0.22105, 3000: 0.68365, 0.1: 0.04695, 30: 0.04835}\n"
     ]
    },
    {
     "name": "stderr",
     "output_type": "stream",
     "text": [
      " 65%|██████▌   | 6511/10001 [31:17<14:00,  4.15it/s]"
     ]
    },
    {
     "name": "stdout",
     "output_type": "stream",
     "text": [
      "Partial Empirical Reward Distribution: {0.1: 0.0481, 3000: 0.6769, 300: 0.22515, 30: 0.04985}\n"
     ]
    },
    {
     "name": "stderr",
     "output_type": "stream",
     "text": [
      " 65%|██████▌   | 6541/10001 [31:25<15:03,  3.83it/s]"
     ]
    },
    {
     "name": "stdout",
     "output_type": "stream",
     "text": [
      "Partial Empirical Reward Distribution: {300: 0.2207, 3000: 0.68545, 30: 0.0476, 0.1: 0.04625}\n"
     ]
    },
    {
     "name": "stderr",
     "output_type": "stream",
     "text": [
      " 66%|██████▌   | 6571/10001 [31:32<14:58,  3.82it/s]"
     ]
    },
    {
     "name": "stdout",
     "output_type": "stream",
     "text": [
      "Partial Empirical Reward Distribution: {3000: 0.68825, 300: 0.2193, 30: 0.04685, 0.1: 0.0456}\n"
     ]
    },
    {
     "name": "stderr",
     "output_type": "stream",
     "text": [
      " 66%|██████▌   | 6601/10001 [31:40<14:15,  3.97it/s]"
     ]
    },
    {
     "name": "stdout",
     "output_type": "stream",
     "text": [
      "Partial Empirical Reward Distribution: {300: 0.21915, 3000: 0.68725, 30: 0.04725, 0.1: 0.04635}\n"
     ]
    },
    {
     "name": "stderr",
     "output_type": "stream",
     "text": [
      " 66%|██████▋   | 6631/10001 [31:48<13:44,  4.09it/s]"
     ]
    },
    {
     "name": "stdout",
     "output_type": "stream",
     "text": [
      "Partial Empirical Reward Distribution: {300: 0.21615, 3000: 0.691, 0.1: 0.0463, 30: 0.04655}\n"
     ]
    },
    {
     "name": "stderr",
     "output_type": "stream",
     "text": [
      " 67%|██████▋   | 6661/10001 [31:55<14:17,  3.89it/s]"
     ]
    },
    {
     "name": "stdout",
     "output_type": "stream",
     "text": [
      "Partial Empirical Reward Distribution: {3000: 0.6943, 300: 0.21365, 0.1: 0.0454, 30: 0.04665}\n"
     ]
    },
    {
     "name": "stderr",
     "output_type": "stream",
     "text": [
      " 67%|██████▋   | 6691/10001 [32:03<15:07,  3.65it/s]"
     ]
    },
    {
     "name": "stdout",
     "output_type": "stream",
     "text": [
      "Partial Empirical Reward Distribution: {3000: 0.69245, 0.1: 0.04605, 300: 0.2148, 30: 0.0467}\n"
     ]
    },
    {
     "name": "stderr",
     "output_type": "stream",
     "text": [
      " 67%|██████▋   | 6721/10001 [32:12<14:09,  3.86it/s]"
     ]
    },
    {
     "name": "stdout",
     "output_type": "stream",
     "text": [
      "Partial Empirical Reward Distribution: {300: 0.21595, 3000: 0.68845, 30: 0.04765, 0.1: 0.04795}\n"
     ]
    },
    {
     "name": "stderr",
     "output_type": "stream",
     "text": [
      " 68%|██████▊   | 6751/10001 [32:19<14:13,  3.81it/s]"
     ]
    },
    {
     "name": "stdout",
     "output_type": "stream",
     "text": [
      "Partial Empirical Reward Distribution: {3000: 0.6859, 300: 0.21595, 30: 0.04905, 0.1: 0.0491}\n"
     ]
    },
    {
     "name": "stderr",
     "output_type": "stream",
     "text": [
      " 68%|██████▊   | 6770/10001 [32:24<13:44,  3.92it/s]IOPub message rate exceeded.\n",
      "The Jupyter server will temporarily stop sending output\n",
      "to the client in order to avoid crashing it.\n",
      "To change this limit, set the config variable\n",
      "`--ServerApp.iopub_msg_rate_limit`.\n",
      "\n",
      "Current values:\n",
      "ServerApp.iopub_msg_rate_limit=1000.0 (msgs/sec)\n",
      "ServerApp.rate_limit_window=3.0 (secs)\n",
      "\n"
     ]
    }
   ],
   "source": [
    "class Args:\n",
    "    device = 'cpu'\n",
    "    progress = True  \n",
    "    learning_rate = 4e-3\n",
    "    opt = 'adam'\n",
    "    adam_beta1 = 0.9\n",
    "    adam_beta2 = 0.999\n",
    "    momentum = 0.9  # SGD with momentum\n",
    "    train_to_sample_ratio = 0.8  # determines how many times the agent should update its model (train) for each set of data it collects from the environment. \n",
    "    clip_grad_norm = 0.\n",
    "    \n",
    "    mbsize = 16  # number of parallel environments (trajectories) are collected by one agent (One Agent's model is shared in Many Environments). \n",
    "    n_hid = 256  # number of hidden units in each hidden layer\n",
    "    n_layers = 2\n",
    "    n_train_steps = 10000  \n",
    "    num_empirical_loss = 20000  # number of samples used to compute the empirical distribution loss during evaluation.\n",
    "    method = 'fm'\n",
    "    save_path = 'results-fm/3-node-v3'\n",
    "    \n",
    "    # Env\n",
    "    func = 'oscillator'\n",
    "    horizon = 20  # 4*5\n",
    "    nnode = 3\n",
    "    ndim = nnode*nnode \n",
    "    multiplier = 1\n",
    "    \n",
    "    # Flownet\n",
    "    bootstrap_tau = 0.0  # no bootstrapping,target network isn't being updated gradually but possibly replaced entirely at some point.\n",
    "    replay_strategy = 'top_k'  # 'top_k' or 'none'\n",
    "    replay_sample_size = 5  # number of experiences to sample from the replay buffer at each update step.\n",
    "    replay_buf_size = 100  #  size of the replay buffer, which stores past experiences for the agent to learn from.\n",
    "    log_reg_c = 0.0  # 2.5e-5\n",
    "\n",
    "\n",
    "\n",
    "args = Args()\n",
    "torch.set_num_threads(100)\n",
    "main(args)\n",
    "\n"
   ]
  },
  {
   "cell_type": "code",
   "execution_count": null,
   "metadata": {},
   "outputs": [],
   "source": []
  },
  {
   "cell_type": "code",
   "execution_count": null,
   "metadata": {},
   "outputs": [],
   "source": []
  },
  {
   "cell_type": "markdown",
   "metadata": {},
   "source": [
    "---"
   ]
  },
  {
   "cell_type": "code",
   "execution_count": null,
   "metadata": {},
   "outputs": [],
   "source": []
  },
  {
   "cell_type": "code",
   "execution_count": null,
   "metadata": {},
   "outputs": [],
   "source": []
  },
  {
   "cell_type": "code",
   "execution_count": 68,
   "metadata": {},
   "outputs": [
    {
     "data": {
      "image/png": "[encoded data removed]",
      "text/plain": [
       "<Figure size 1200x600 with 1 Axes>"
      ]
     },
     "metadata": {},
     "output_type": "display_data"
    }
   ],
   "source": [
    "import matplotlib.pyplot as plt\n",
    "import numpy as np\n",
    "\n",
    "# Assuming all_losses, all_visited, empirical_distrib_losses are lists of lists or arrays\n",
    "\n",
    "# Plot the losses\n",
    "if all_losses:\n",
    "    all_losses_array = np.array(all_losses)\n",
    "    plt.figure(figsize=(12, 6))\n",
    "    for i in range(all_losses_array.shape[1]):\n",
    "        plt.plot(all_losses_array[:, i], label=f'Loss {i+1}')\n",
    "    plt.xlabel('Training Step')\n",
    "    plt.ylabel('Loss')\n",
    "    plt.title('Training Losses Over Time')\n",
    "    plt.legend()\n",
    "    plt.show()\n"
   ]
  },
  {
   "cell_type": "code",
   "execution_count": 69,
   "metadata": {},
   "outputs": [
    {
     "name": "stdout",
     "output_type": "stream",
     "text": [
      "Top 10 States with Highest Rewards:\n",
      "State 1: (5, 0, 0, 2, 0, 1, 4, 0, 7), Reward: 3000\n",
      "State 2: (5, 0, 0, 3, 1, 0, 4, 0, 7), Reward: 3000\n",
      "State 3: (6, 0, 0, 2, 0, 1, 2, 0, 7), Reward: 3000\n",
      "State 4: (7, 0, 0, 3, 1, 0, 6, 0, 7), Reward: 3000\n",
      "State 5: (12, 0, 0, 2, 0, 0, 3, 0, 7), Reward: 3000\n",
      "State 6: (7, 0, 0, 2, 1, 0, 3, 0, 7), Reward: 3000\n",
      "State 7: (8, 0, 0, 1, 1, 0, 5, 0, 7), Reward: 3000\n",
      "State 8: (9, 0, 0, 1, 3, 0, 1, 0, 7), Reward: 3000\n",
      "State 9: (9, 0, 0, 3, 0, 0, 3, 0, 7), Reward: 3000\n",
      "State 10: (9, 0, 0, 1, 1, 0, 3, 0, 7), Reward: 3000\n",
      "State 11: (6, 0, 0, 2, 1, 0, 2, 0, 7), Reward: 3000\n",
      "State 12: (5, 1, 0, 2, 2, 0, 3, 0, 7), Reward: 3000\n",
      "State 13: (8, 0, 0, 1, 1, 0, 3, 0, 7), Reward: 3000\n",
      "State 14: (8, 0, 0, 1, 0, 0, 4, 0, 7), Reward: 3000\n",
      "State 15: (8, 0, 0, 1, 0, 0, 4, 0, 7), Reward: 3000\n",
      "State 16: (7, 0, 0, 1, 1, 0, 2, 0, 7), Reward: 3000\n",
      "State 17: (9, 0, 2, 2, 0, 1, 2, 0, 7), Reward: 3000\n",
      "State 18: (7, 1, 0, 3, 0, 0, 3, 0, 7), Reward: 3000\n",
      "State 19: (6, 0, 0, 3, 0, 0, 5, 0, 7), Reward: 3000\n",
      "State 20: (6, 0, 0, 1, 3, 0, 2, 0, 7), Reward: 3000\n"
     ]
    }
   ],
   "source": [
    "# Sort visited states by reward in descending order\n",
    "visited_sorted_by_reward = sorted(all_visited_done, key=lambda x: x[1], reverse=True)\n",
    "\n",
    "# Sample the top 10 states with the highest rewards\n",
    "top_states = visited_sorted_by_reward[0:20]\n",
    "\n",
    "print(\"Top 10 States with Highest Rewards:\")\n",
    "for i, (state, reward) in enumerate(top_states):\n",
    "    print(f\"State {i+1}: {state}, Reward: {reward}\")\n"
   ]
  },
  {
   "cell_type": "code",
   "execution_count": 70,
   "metadata": {},
   "outputs": [
    {
     "data": {
      "text/plain": [
       "320032"
      ]
     },
     "execution_count": 70,
     "metadata": {},
     "output_type": "execute_result"
    }
   ],
   "source": [
    "len(all_visited_done)"
   ]
  },
  {
   "cell_type": "code",
   "execution_count": null,
   "metadata": {},
   "outputs": [],
   "source": []
  },
  {
   "cell_type": "code",
   "execution_count": null,
   "metadata": {},
   "outputs": [],
   "source": []
  },
  {
   "cell_type": "code",
   "execution_count": null,
   "metadata": {},
   "outputs": [],
   "source": []
  },
  {
   "cell_type": "code",
   "execution_count": 67,
   "metadata": {},
   "outputs": [
    {
     "ename": "NameError",
     "evalue": "name 'f' is not defined",
     "output_type": "error",
     "traceback": [
      "\u001b[0;31m---------------------------------------------------------------------------\u001b[0m",
      "\u001b[0;31mNameError\u001b[0m                                 Traceback (most recent call last)",
      "Cell \u001b[0;32mIn[67], line 7\u001b[0m\n\u001b[1;32m      3\u001b[0m \u001b[38;5;28;01mimport\u001b[39;00m \u001b[38;5;21;01mos\u001b[39;00m\n\u001b[1;32m      5\u001b[0m args \u001b[38;5;241m=\u001b[39m Args()\n\u001b[0;32m----> 7\u001b[0m env \u001b[38;5;241m=\u001b[39m GridEnv(args\u001b[38;5;241m.\u001b[39mhorizon, args\u001b[38;5;241m.\u001b[39mndim, args\u001b[38;5;241m.\u001b[39mmultiplier, func\u001b[38;5;241m=\u001b[39m\u001b[43mf\u001b[49m)\n\u001b[1;32m      9\u001b[0m agent_path \u001b[38;5;241m=\u001b[39m \u001b[38;5;124m\"\u001b[39m\u001b[38;5;124m/home/dannyhuang/gflownet/frontline/results-v3/5-node-v3/agent_checkpoint_3000.pkl.gz\u001b[39m\u001b[38;5;124m\"\u001b[39m\n\u001b[1;32m     10\u001b[0m \u001b[38;5;28mprint\u001b[39m(agent_path)\n",
      "\u001b[0;31mNameError\u001b[0m: name 'f' is not defined"
     ]
    }
   ],
   "source": [
    "import pickle\n",
    "import gzip\n",
    "import os\n",
    "\n",
    "args = Args()\n",
    "\n",
    "env = GridEnv(args.horizon, args.ndim, args.multiplier, func=f)\n",
    "\n",
    "agent_path = \"/home/dannyhuang/gflownet/frontline/results-v3/5-node-v3/agent_checkpoint_3000.pkl.gz\"\n",
    "print(agent_path)\n",
    "\n",
    "# Load the trained_agent object from the file\n",
    "try:\n",
    "    with gzip.open(agent_path, 'rb') as f:\n",
    "        trained_agent = pickle.load(f)\n",
    "    print(trained_agent)\n",
    "except FileNotFoundError:\n",
    "    print(f\"Error: The file {agent_path} was not found.\")\n",
    "except Exception as e:\n",
    "    print(f\"An error occurred while loading the file: {str(e)}\")"
   ]
  },
  {
   "cell_type": "code",
   "execution_count": null,
   "metadata": {},
   "outputs": [],
   "source": [
    "len(trained_agent.trn_all_visited_done)\n",
    "trn_all_visited_done = trained_agent.trn_all_visited_done\n",
    "visited_sorted_by_reward = sorted(trn_all_visited_done, key=lambda x: x[1], reverse=True)\n",
    "\n",
    "# Sample the top 10 states with the highest rewards\n",
    "top_states = visited_sorted_by_reward[:20]\n",
    "\n",
    "print(\"Top 10 States with Highest Rewards:\")\n",
    "for i, (state, reward) in enumerate(top_states):\n",
    "    print(f\"State {i+1}: {state}, Reward: {reward}\")\n"
   ]
  },
  {
   "cell_type": "code",
   "execution_count": null,
   "metadata": {},
   "outputs": [],
   "source": []
  },
  {
   "cell_type": "code",
   "execution_count": null,
   "metadata": {},
   "outputs": [],
   "source": []
  },
  {
   "cell_type": "code",
   "execution_count": null,
   "metadata": {},
   "outputs": [],
   "source": []
  },
  {
   "cell_type": "code",
   "execution_count": null,
   "metadata": {},
   "outputs": [],
   "source": [
    "import numpy as np\n",
    "import matplotlib.pyplot as plt\n",
    "from scipy.integrate import odeint\n",
    "import ipywidgets as widgets\n",
    "from ipywidgets import interact\n",
    "\n",
    "delta = 0.0001\n",
    "\n",
    "# Define the sigmoid function\n",
    "def sigmoid(z):\n",
    "    return 1 / (1 + np.exp(-z))\n",
    "\n",
    "# Define the dynamical system for the n-node system with sigmoid\n",
    "def n_node_system_with_sigmoid(x, t, *weights):\n",
    "    nnode = int(np.sqrt(len(weights)))\n",
    "    M_tilde = np.array(weights).reshape((nnode, nnode))\n",
    "    \n",
    "    # Compute M_tilde * x\n",
    "    z = M_tilde.dot(x)\n",
    "    \n",
    "    # Apply sigmoid\n",
    "    sigmoid_z = sigmoid(z)\n",
    "    \n",
    "    # Compute the derivative\n",
    "    dxdt = sigmoid_z - x\n",
    "    return dxdt\n",
    "\n",
    "# Function to update plot and calculate reward\n",
    "def update_plot(*weights):\n",
    "    nnode = int(np.sqrt(len(weights)))\n",
    "    ndim = nnode * nnode\n",
    "\n",
    "    # Initial conditions\n",
    "    x0 = np.linspace(0, 1, nnode, endpoint=False)\n",
    "\n",
    "    # Define the time points\n",
    "    t = np.linspace(0, 20, 200)\n",
    "\n",
    "    # Solve ODE\n",
    "    sol = odeint(n_node_system_with_sigmoid, x0, t, args=tuple(weights))\n",
    "    \n",
    "    # Clear current plot\n",
    "    plt.clf()\n",
    "    \n",
    "    # Plot the results\n",
    "    for i in range(nnode):\n",
    "        plt.plot(t, sol[:, i], label=f'$x_{i+1}$')\n",
    "    plt.xlabel('Time')\n",
    "    plt.ylabel('Concentration')\n",
    "    plt.title(f'{nnode}-Node System Dynamics with Sigmoid')\n",
    "    plt.legend()\n",
    "    plt.grid(True)\n",
    "    plt.show()\n",
    "    \n",
    "    # Calculate reward based on the number of sharp peaks\n",
    "    reward = calculate_reward(sol)\n",
    "    print(f\"Reward: {reward}\")\n",
    "\n",
    "# Function to calculate reward based on the number of sharp peaks\n",
    "def calculate_reward(sol, delta=delta):\n",
    "    reward = 0\n",
    "    for i in range(sol.shape[1]):  # Loop through each time series x1, x2, ..., xn\n",
    "        x_i = sol[:, i]\n",
    "        dx_i = np.diff(x_i)  # First derivative approximation\n",
    "        peaks = 0\n",
    "        for j in range(1, len(dx_i)):\n",
    "            if dx_i[j-1] > 0 and dx_i[j] < 0:  # Detect a peak\n",
    "                sharpness = x_i[j] - (x_i[j-1] + x_i[j+1]) / 2\n",
    "                if sharpness > delta:  # Check if the peak is sharp\n",
    "                    peaks += 1\n",
    "        reward += peaks  # Add the number of sharp peaks as reward\n",
    "    return reward\n",
    "\n",
    "\n",
    "# # Example usage\n",
    "# nnode = 5  # Change this to set the number of nodes\n",
    "# ndim = nnode * nnode\n",
    "# test_weights = np.ones(ndim)\n",
    "# update_plot(*test_weights)\n",
    "\n",
    "test_state =  [9, 0, 0, 0, 1, 0, 0, 0, 0, 0, 2, 1, 0, 0, 0, 19, 0, 15, 2, 4, 0, 0, 0, 0, 0]\n",
    "test_weight = env.s2x(np.int32(test_state))\n",
    "update_plot(*test_weight)\n",
    "\n",
    "\n"
   ]
  },
  {
   "cell_type": "code",
   "execution_count": null,
   "metadata": {},
   "outputs": [],
   "source": [
    "test_weight"
   ]
  },
  {
   "cell_type": "code",
   "execution_count": null,
   "metadata": {},
   "outputs": [],
   "source": []
  }
 ],
 "metadata": {
  "kernelspec": {
   "display_name": "Python 3 (ipykernel)",
   "language": "python",
   "name": "python3"
  },
  "language_info": {
   "codemirror_mode": {
    "name": "ipython",
    "version": 3
   },
   "file_extension": ".py",
   "mimetype": "text/x-python",
   "name": "python",
   "nbconvert_exporter": "python",
   "pygments_lexer": "ipython3",
   "version": "3.9.19"
  }
 },
 "nbformat": 4,
 "nbformat_minor": 4
}
