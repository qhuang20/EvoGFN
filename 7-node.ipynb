{
 "cells": [
  {
   "cell_type": "code",
   "execution_count": 43,
   "metadata": {},
   "outputs": [],
   "source": [
    "import argparse\n",
    "import copy\n",
    "import gzip\n",
    "import heapq\n",
    "import itertools\n",
    "import os\n",
    "import pickle\n",
    "from collections import defaultdict\n",
    "from itertools import count\n",
    "import matplotlib.pyplot as plt\n",
    "\n",
    "import numpy as np\n",
    "from scipy.stats import norm\n",
    "from tqdm import tqdm\n",
    "import torch\n",
    "import torch.nn as nn\n",
    "from torch.distributions.categorical import Categorical\n",
    "\n",
    "import numpy as np\n",
    "import matplotlib.pyplot as plt\n",
    "from scipy.integrate import odeint\n",
    "import ipywidgets as widgets\n",
    "from ipywidgets import interact\n"
   ]
  },
  {
   "cell_type": "code",
   "execution_count": 44,
   "metadata": {},
   "outputs": [],
   "source": [
    "_dev = [torch.device('cpu')]\n",
    "# tf = lambda x: torch.FloatTensor(x).to(_dev[0])\n",
    "# tl = lambda x: torch.LongTensor(x).to(_dev[0])\n",
    "tf = lambda x: torch.FloatTensor(np.array(x)).to(_dev[0])  # Convert to numpy array first\n",
    "tl = lambda x: torch.LongTensor(np.array(x)).to(_dev[0])\n",
    "\n",
    "def set_device(dev):\n",
    "    _dev[0] = dev \n",
    "\n",
    "def func_corners(x):\n",
    "    ax = abs(x)\n",
    "    return (ax > 0.5).prod(-1) * 0.5 + ((ax < 0.8) * (ax > 0.6)).prod(-1) * 2 + 1e-1\n",
    "\n",
    "\n",
    "\n",
    "# Define the sigmoid function\n",
    "def sigmoid(z):\n",
    "    return 1 / (1 + np.exp(-z))\n",
    "\n",
    "# Define the dynamical system for the n-node system with sigmoid\n",
    "def node_system_with_sigmoid(x, t, coord):\n",
    "    matrix_dim = len(x)\n",
    "    M_tilde = np.reshape(coord, (matrix_dim, matrix_dim))\n",
    "    z = M_tilde.dot(x)  # Compute M_tilde * x\n",
    "    sigmoid_z = sigmoid(z)\n",
    "    dxdt = sigmoid_z - x  # Compute the derivative   \n",
    "    return dxdt\n",
    "\n",
    "# Calculate reward given the weights\n",
    "def reward_oscillator(coord, ndim):\n",
    "    delta = 0.0001  # 0.0001\n",
    "    matrix_dim = int(np.sqrt(ndim))\n",
    "    x0 = np.linspace(0, 1, matrix_dim, endpoint=False)  # Initial conditions\n",
    "    t = np.linspace(0, 20, 200)  # Define the time points\n",
    "    sol = odeint(node_system_with_sigmoid, x0, t, args=(coord, ))\n",
    "    \n",
    "    # Calculate the total number of sharp peaks across all time series\n",
    "    total_peaks = 0\n",
    "    for i in range(matrix_dim):  # Loop through each time series x1, x2, ..., xn\n",
    "        x_i = sol[:, i]\n",
    "        dx_i = np.diff(x_i)  # First derivative approximation\n",
    "        peaks = 0\n",
    "        for j in range(1, len(dx_i)):\n",
    "            if dx_i[j-1] > 0 and dx_i[j] < 0:  # Detect a peak\n",
    "                sharpness = x_i[j] - (x_i[j-1] + x_i[j+1]) / 2\n",
    "                if sharpness > delta:  # Check if the peak is sharp\n",
    "                    peaks += 1\n",
    "        total_peaks += peaks  # Add the number of sharp peaks for this time series\n",
    "    \n",
    "    if total_peaks == 0:\n",
    "        return 2.5e-5  # see log_reg_c\n",
    "    else:\n",
    "        return min(total_peaks**5, 14**5)  # number of peaks   \n"
   ]
  },
  {
   "cell_type": "code",
   "execution_count": 45,
   "metadata": {},
   "outputs": [],
   "source": [
    "\n",
    "class GridEnv:\n",
    "\n",
    "    def __init__(self, horizon, ndim=2, multiplier=2, func=None):\n",
    "        self.horizon = horizon\n",
    "        self.ndim = ndim\n",
    "        self.multiplier = multiplier\n",
    "        self.func = func   # Sets the reward function.\n",
    "        self._true_density = None\n",
    " \n",
    "    def obs(self, s=None):\n",
    "        \"\"\"\n",
    "        Returns a one-hot encoded observation of the current state.\n",
    "        The observation is a flattened vector representing the agent's position in the grid.\n",
    "        \"\"\"\n",
    "        s = np.int32(self._state if s is None else s)\n",
    "        z = np.zeros((self.horizon * self.ndim), dtype=np.float32)\n",
    "        z[np.arange(len(s)) * self.horizon + s] = 1 \n",
    "        return z    # one-hot agent's current position in the grid.\n",
    "    \n",
    "    def s2x(self, s):\n",
    "        \"\"\"\n",
    "        Transform the grid of indices (state s) to spherical coordinates and then calculate the cartesian coordinates\n",
    "        (x_1, x_2, ..., x_n) for n dimensions.\n",
    "        \n",
    "        s[0]: radial distance (r)\n",
    "        s[1:n-1]: polar angles (theta_1, theta_2, ..., theta_{n-2})\n",
    "        s[n-1]: azimuthal angle (phi)\n",
    "        \n",
    "        multiplier: scalar value to multiply the state s (default is 1)\n",
    "        \"\"\"\n",
    "        # Apply the multiplier to the state s\n",
    "        s = s * self.multiplier\n",
    "        \n",
    "        # Initialize the radius (r) from the first component of the state vector\n",
    "        r = s[0]\n",
    "    \n",
    "        # Initialize an array to hold the Cartesian coordinates\n",
    "        x = np.zeros(self.ndim)\n",
    "    \n",
    "        # Constants or parameters (assuming self.horizon refers to the number of steps in the grid)\n",
    "        horizon = self.horizon\n",
    "        \n",
    "        # Calculate the spherical to Cartesian conversion\n",
    "        product = r\n",
    "        for i in range(1, self.ndim):\n",
    "            if i == self.ndim - 1:\n",
    "                # The last angle (phi) ranges from 0 to 2π\n",
    "                phi = s[i] * 2 * np.pi / horizon\n",
    "                x[i - 1] = product * np.cos(phi)\n",
    "                x[i] = product * np.sin(phi)\n",
    "            else:\n",
    "                # The other angles (theta) range from 0 to π\n",
    "                theta = s[i] * np.pi / horizon\n",
    "                x[i - 1] = product * np.sin(theta)\n",
    "                product *= np.cos(theta)\n",
    "    \n",
    "        return x\n",
    "    \n",
    "    def reset(self):\n",
    "        \"\"\"\n",
    "        Resets the environment to the initial state.\n",
    "        \"\"\"\n",
    "        self._state = np.int32([0] * self.ndim)   # start position (0,0...)\n",
    "        self._step = 0\n",
    "        return self.obs(), self.func(self.s2x(self._state), self.ndim), self._state\n",
    "\n",
    "    def parent_transitions(self, s, used_stop_action):\n",
    "        \"\"\"\n",
    "        Determines the parent states and corresponding actions that could have led to the current state.\n",
    "        \n",
    "        Parameters:\n",
    "        - s: The current state.\n",
    "        - used_stop_action: A boolean indicating if the stop action was used.\n",
    "        \n",
    "        Returns:\n",
    "        - A list of possible parent states (one-hot encoded).\n",
    "        - A list of corresponding actions.\n",
    "        \"\"\"\n",
    "        if used_stop_action:\n",
    "            return [self.obs(s)], [self.ndim]\n",
    "            \n",
    "        parents = []\n",
    "        actions = []\n",
    "        for i in range(self.ndim):\n",
    "            if s[i] > 0:\n",
    "                sp = s.copy()  # s + 0\n",
    "                sp[i] -= 1\n",
    "                if sp.max() == self.horizon - 1:  # Can't have a terminal parent\n",
    "                    continue\n",
    "                parents.append(self.obs(sp))  # Generate observation for parent state\n",
    "                actions.append(i)\n",
    "        return parents, actions\n",
    "\n",
    "    \n",
    "    def step(self, a):\n",
    "        \"\"\"\n",
    "        Updates the environment's state based on the action `a` and \n",
    "        returns the new observation, reward, done signal, and new state.\n",
    "        \"\"\"\n",
    "        s = self._state.copy()\n",
    "        if a < self.ndim:\n",
    "            s[a] += 1\n",
    "        \n",
    "        done = s.max() >= self.horizon - 1 or a == self.ndim\n",
    "        self._state = s  # Update the internal state\n",
    "        self._step += 1  # Increment step counter\n",
    "        \n",
    "        return self.obs(), 0 if not done else self.func(self.s2x(s), self.ndim), done, s\n",
    "\n",
    "\n",
    "\n",
    "class ReplayBuffer:\n",
    "    def __init__(self, args, env):\n",
    "        self.buf = []\n",
    "        self.strat = args.replay_strategy\n",
    "        self.sample_size = args.replay_sample_size\n",
    "        self.bufsize = args.replay_buf_size\n",
    "        self.env = env\n",
    "\n",
    "    def add(self, x, r_x):\n",
    "        if self.strat == 'top_k':\n",
    "            if len(self.buf) < self.bufsize or r_x > self.buf[0][0]:\n",
    "                self.buf = sorted(self.buf + [(r_x, x)])[-self.bufsize:]\n",
    "\n",
    "    def sample(self):\n",
    "        if not len(self.buf):\n",
    "            return []\n",
    "        idxs = np.random.randint(0, len(self.buf), self.sample_size)\n",
    "        return sum([self.generate_backward(*self.buf[i]) for i in idxs], [])  # Samples from the buffer and generates trajectories backward.\n",
    "\n",
    "    def generate_backward(self, r, s0):\n",
    "        s = np.int8(s0)\n",
    "        os0 = self.env.obs(s)\n",
    "        # If s0 is a forced-terminal state, the the action that leads\n",
    "        # to it is s0.argmax() which .parents finds, but if it isn't,\n",
    "        # we must indicate that the agent ended the trajectory with\n",
    "        # the stop action\n",
    "        used_stop_action = s.max() < self.env.horizon - 1\n",
    "        done = True\n",
    "        # Now we work backward from that last transition\n",
    "        traj = []\n",
    "        while s.sum() > 0:\n",
    "            parents, actions = self.env.parent_transitions(s, used_stop_action)\n",
    "            # add the transition\n",
    "            traj.append([tf(i) for i in (parents, actions, [r], [self.env.obs(s)], [done])])\n",
    "            # Then randomly choose a parent state\n",
    "            if not used_stop_action:\n",
    "                i = np.random.randint(0, len(parents))\n",
    "                a = actions[i]\n",
    "                s[a] -= 1\n",
    "            # Values for intermediary trajectory states:\n",
    "            used_stop_action = False\n",
    "            done = False\n",
    "            r = 0\n",
    "        return traj  # Generates a trajectory by working backward from a terminal state.\n",
    "\n",
    "def make_mlp(l, act=nn.LeakyReLU(), tail=[]):\n",
    "    return nn.Sequential(*(sum(\n",
    "        [[nn.Linear(i, o)] + ([act] if n < len(l)-2 else [])\n",
    "         for n, (i, o) in enumerate(zip(l, l[1:]))], []) + tail))\n",
    "    \n",
    "class FlowNetAgent:\n",
    "    def __init__(self, args, envs):\n",
    "        self.model = make_mlp([args.horizon * args.ndim] +\n",
    "                              [args.n_hid] * args.n_layers +\n",
    "                              [args.ndim+1])\n",
    "        self.model.to(args.dev)\n",
    "        self.target = copy.deepcopy(self.model)\n",
    "        self.envs = envs\n",
    "        self.ndim = args.ndim\n",
    "        self.tau = args.bootstrap_tau\n",
    "        self.replay = ReplayBuffer(args, envs[0])\n",
    "        self.log_reg_c = args.log_reg_c\n",
    "        \n",
    "        # to store training data\n",
    "        self.trn_all_losses = []\n",
    "        self.trn_all_visited_done = []\n",
    "\n",
    "\n",
    "    def parameters(self):\n",
    "        return self.model.parameters()\n",
    "\n",
    "    def sample_many(self, mbsize, all_visited_done):\n",
    "        \"\"\"Collects transition data from multiple parallel trajectories.\"\"\"\n",
    "        batch = []  # store transitions.\n",
    "        batch += self.replay.sample()\n",
    "        s = tf([i.reset()[0] for i in self.envs])\n",
    "        done = [False] * mbsize\n",
    "        while not all(done):\n",
    "            # Note to self: this is ugly, ugly code\n",
    "            with torch.no_grad():\n",
    "                acts = Categorical(logits=self.model(s)).sample()   # Samples actions based on model's logits.\n",
    "            step = [i.step(a) for i,a in zip([e for d, e in zip(done, self.envs) if not d], acts)]\n",
    "            p_a = [self.envs[0].parent_transitions(sp_state, a == self.ndim)\n",
    "                   for a, (sp, r, done, sp_state) in zip(acts, step)]\n",
    "            batch += [[tf(i) for i in (p, a, [r], [sp], [d])]\n",
    "                      for (p, a), (sp, r, d, _) in zip(p_a, step)]\n",
    "            c = count(0)\n",
    "            m = {j:next(c) for j in range(mbsize) if not done[j]}\n",
    "            done = [bool(d or step[m[i]][2]) for i, d in enumerate(done)]\n",
    "            s = tf([i[0] for i in step if not i[2]])\n",
    "            for (_, r, d, sp) in step:\n",
    "                if d:\n",
    "                    all_visited_done.append((tuple(sp), r))  # (state, reward) pairs\n",
    "                    self.replay.add(tuple(sp), r) \n",
    "        return batch  # it returns a batch of collected transitions for training. {parents, actions, reward, next_state, done}\n",
    "\n",
    "    def sample_one_traj(self):\n",
    "        \"\"\"\n",
    "        Samples a single trajectory and returns it.\n",
    "        \"\"\"\n",
    "        traj = []\n",
    "        env = self.envs[0]\n",
    "        traj.append([[], [], 0, np.int32([0] * self.ndim), False])\n",
    "        \n",
    "        s = tf(env.reset()[0])\n",
    "        done = False\n",
    "        while not done:\n",
    "            with torch.no_grad():\n",
    "                logits = self.model(s.unsqueeze(0))\n",
    "                action_dist = Categorical(logits=logits)\n",
    "                a = action_dist.sample().item()\n",
    "            sp, r, done_flag, sp_state = env.step(a)\n",
    "            parent_states, parent_actions = env.parent_transitions(sp_state, a == self.ndim)\n",
    "            traj.append([parent_states, parent_actions, r, sp_state, done_flag])\n",
    "            \n",
    "            s = tf(sp)\n",
    "            done = done_flag\n",
    "        return traj\n",
    "\n",
    "    def learn_from(self, it, batch):\n",
    "        loginf = tf([1000])\n",
    "        batch_idxs = tl(sum([[i]*len(parents) for i, (parents,_,_,_,_) in enumerate(batch)], []))\n",
    "        parents, actions, r, sp, done = map(torch.cat, zip(*batch))\n",
    "        parents_Qsa = self.model(parents)[torch.arange(parents.shape[0]), actions.long()]\n",
    "        in_flow = torch.log(self.log_reg_c + torch.zeros((sp.shape[0],))\n",
    "                            .index_add_(0, batch_idxs, torch.exp(parents_Qsa)))\n",
    "        if self.tau > 0:\n",
    "            with torch.no_grad(): next_q = self.target(sp)\n",
    "        else:\n",
    "            next_q = self.model(sp)\n",
    "        next_qd = next_q * (1-done).unsqueeze(1) + done.unsqueeze(1) * (-loginf)\n",
    "        out_flow = torch.logsumexp(torch.cat([torch.log(self.log_reg_c + r)[:, None], next_qd], 1), 1)\n",
    "        \n",
    "        term_loss = ((in_flow - out_flow) * done).pow(2).sum() / (done.sum() + 1e-20)\n",
    "        flow_loss = ((in_flow - out_flow) * (1-done)).pow(2).sum() / ((1-done).sum() + 1e-20)\n",
    "        \n",
    "        # loss = (in_flow - out_flow).pow(2).mean()\n",
    "        leaf_coef = 10\n",
    "        loss = term_loss * leaf_coef + flow_loss\n",
    "\n",
    "        if self.tau > 0:\n",
    "            for a,b in zip(self.model.parameters(), self.target.parameters()):\n",
    "                b.data.mul_(1-self.tau).add_(self.tau*a)\n",
    "\n",
    "        return loss, term_loss, flow_loss    \n",
    "\n",
    "\n"
   ]
  },
  {
   "cell_type": "code",
   "execution_count": 46,
   "metadata": {},
   "outputs": [],
   "source": [
    "# Training \n",
    "\n",
    "def make_opt(params, args):\n",
    "    params = list(params)\n",
    "    if not len(params):\n",
    "        return None\n",
    "    if args.opt == 'adam':\n",
    "        opt = torch.optim.Adam(params, args.learning_rate,\n",
    "                               betas=(args.adam_beta1, args.adam_beta2))\n",
    "    elif args.opt == 'msgd':\n",
    "        opt = torch.optim.SGD(params, args.learning_rate, momentum=args.momentum)\n",
    "    return opt\n",
    "\n",
    "def compute_empirical_reward_distribution(visited):\n",
    "    if not len(visited):\n",
    "        return {}\n",
    "    reward_hist = defaultdict(int)\n",
    "    for _, reward in visited:\n",
    "        reward_hist[reward] += 1\n",
    "    total_visits = sum(reward_hist.values())\n",
    "    empirical_distribution = {reward: count / total_visits for reward, count in reward_hist.items()}\n",
    "    return empirical_distribution\n",
    "\n",
    "\n",
    "\n",
    "all_losses = []\n",
    "all_visited_done = []\n",
    "\n",
    "def main(args):\n",
    "    args.dev = torch.device(args.device)\n",
    "    set_device(args.dev)\n",
    "    f = {'default': None,\n",
    "         'corners': func_corners,\n",
    "         'oscillator': reward_oscillator,\n",
    "    }[args.func]\n",
    "    \n",
    "    env = GridEnv(args.horizon, args.ndim, multiplier=args.multiplier, func=f)\n",
    "    envs = [GridEnv(args.horizon, args.ndim, multiplier=args.multiplier, func=f)\n",
    "            for i in range(args.mbsize)] \n",
    "    ndim = args.ndim\n",
    "    nnode = args.nnode\n",
    "\n",
    "    if args.method == 'flownet':\n",
    "        agent = FlowNetAgent(args, envs)\n",
    "    elif args.method == 'mcmc':\n",
    "        agent = MHAgent(args, envs)\n",
    "    elif args.method == 'random_traj':\n",
    "        agent = RandomTrajAgent(args, envs)\n",
    "\n",
    "    opt = make_opt(agent.parameters(), args)\n",
    "\n",
    "        \n",
    "    \n",
    "    # Log file setup\n",
    "    root = args.save_path \n",
    "    log_file_path = os.path.join(root, f'trn-out-{args.nnode}-node.log')\n",
    "    os.makedirs(os.path.dirname(log_file_path), exist_ok=True)\n",
    "    with open(log_file_path, 'w') as log_file:\n",
    "    \n",
    "        # Training Loop Setup\n",
    "        \n",
    "        ttsr = max(int(args.train_to_sample_ratio), 1) # train to sample ratio\n",
    "        sttr = max(int(1/args.train_to_sample_ratio), 1) # sample to train ratio\n",
    "        \n",
    "        for i in tqdm(range(args.n_train_steps+1), disable=not args.progress):\n",
    "            data = []  # a list of transitions from a batch of trajectories\n",
    "            for j in range(sttr):\n",
    "                \"\"\"Agent samples trajectories for training.\"\"\"\n",
    "                data += agent.sample_many(args.mbsize, all_visited_done)   \n",
    "            for j in range(ttsr):\n",
    "                \"\"\"Agent updates its model using the sampled data.\"\"\"\n",
    "                losses = agent.learn_from(i * ttsr + j, data) # returns (opt loss, *metrics)\n",
    "                if losses is not None:\n",
    "                    losses[0].backward(retain_graph=(not i % 50))\n",
    "                    if args.clip_grad_norm > 0:\n",
    "                        torch.nn.utils.clip_grad_norm_(agent.parameters(),\n",
    "                                                       args.clip_grad_norm)\n",
    "                    opt.step()\n",
    "                    opt.zero_grad()\n",
    "                    all_losses.append([i.item() for i in losses])\n",
    "        \n",
    "            # Log empirical reward every 100 iterations\n",
    "            if not i % 100:\n",
    "                empirical_distribution = compute_empirical_reward_distribution(all_visited_done[-args.num_empirical_loss:])\n",
    "                print('Partial Empirical Reward Distribution:', empirical_distribution)\n",
    "                log_file.write(f'Partial Empirical Reward Distribution: {empirical_distribution}\\n')\n",
    "                log_file.flush()  # Ensure data is written to the log file\n",
    "                        \n",
    "            # Save the agent and model every 1000 iterations\n",
    "            if not i % 1000:\n",
    "                # Update agent with current all_losses and all_visited_done\n",
    "                agent.trn_all_losses = all_losses.copy()\n",
    "                agent.trn_all_visited_done = all_visited_done.copy()\n",
    "                \n",
    "                # Save the entire agent\n",
    "                agent_save_path = os.path.join(root, f\"agent_checkpoint_{i}.pkl.gz\")  \n",
    "                with gzip.open(agent_save_path, 'wb') as f: \n",
    "                    pickle.dump(agent, f)\n",
    "                print(f\"Agent checkpoint saved at iteration {i} in {nnode}.\")\n",
    "                log_file.write(f\"Agent checkpoint saved at iteration {i} in {nnode}.\\n\")\n",
    "                log_file.flush() \n",
    "            \n",
    "                # Save the agent's model separately\n",
    "                model_save_path = os.path.join(root, f\"model_checkpoint_{i}.pkl.gz\") \n",
    "                with gzip.open(model_save_path, 'wb') as f:  \n",
    "                    pickle.dump(agent.model, f)\n",
    "                print(f\"Model checkpoint saved at iteration {i} in {nnode}.\")\n",
    "                log_file.write(f\"Model checkpoint saved at iteration {i} in {nnode}.\\n\")\n",
    "                log_file.flush() \n"
   ]
  },
  {
   "cell_type": "code",
   "execution_count": null,
   "metadata": {
    "scrolled": true
   },
   "outputs": [
    {
     "name": "stderr",
     "output_type": "stream",
     "text": [
      "  0%|          | 1/30001 [00:00<2:39:14,  3.14it/s]"
     ]
    },
    {
     "name": "stdout",
     "output_type": "stream",
     "text": [
      "Partial Empirical Reward Distribution: {2.5e-05: 1.0}\n",
      "Agent checkpoint saved at iteration 0 in 7.\n",
      "Model checkpoint saved at iteration 0 in 7.\n"
     ]
    },
    {
     "name": "stderr",
     "output_type": "stream",
     "text": [
      "  0%|          | 101/30001 [00:42<2:22:18,  3.50it/s]"
     ]
    },
    {
     "name": "stdout",
     "output_type": "stream",
     "text": [
      "Partial Empirical Reward Distribution: {2.5e-05: 0.9170792079207921, 1: 0.07920792079207921, 32: 0.0037128712871287127}\n"
     ]
    },
    {
     "name": "stderr",
     "output_type": "stream",
     "text": [
      "  1%|          | 201/30001 [01:04<1:50:18,  4.50it/s]"
     ]
    },
    {
     "name": "stdout",
     "output_type": "stream",
     "text": [
      "Partial Empirical Reward Distribution: {2.5e-05: 0.8824626865671642, 1: 0.11069651741293532, 32: 0.006840796019900498}\n"
     ]
    },
    {
     "name": "stderr",
     "output_type": "stream",
     "text": [
      "  1%|          | 302/30001 [01:27<1:54:41,  4.32it/s]"
     ]
    },
    {
     "name": "stdout",
     "output_type": "stream",
     "text": [
      "Partial Empirical Reward Distribution: {2.5e-05: 0.8725083056478405, 1: 0.12209302325581395, 32: 0.005398671096345515}\n"
     ]
    },
    {
     "name": "stderr",
     "output_type": "stream",
     "text": [
      "  1%|▏         | 401/30001 [01:52<2:13:26,  3.70it/s]"
     ]
    },
    {
     "name": "stdout",
     "output_type": "stream",
     "text": [
      "Partial Empirical Reward Distribution: {2.5e-05: 0.8665835411471322, 1: 0.12749376558603492, 32: 0.0059226932668329174}\n"
     ]
    },
    {
     "name": "stderr",
     "output_type": "stream",
     "text": [
      "  2%|▏         | 501/30001 [02:17<2:25:33,  3.38it/s]"
     ]
    },
    {
     "name": "stdout",
     "output_type": "stream",
     "text": [
      "Partial Empirical Reward Distribution: {2.5e-05: 0.8715069860279441, 1: 0.12150698602794412, 32: 0.006736526946107785, 1024: 0.000249500998003992}\n"
     ]
    },
    {
     "name": "stderr",
     "output_type": "stream",
     "text": [
      "  2%|▏         | 602/30001 [02:40<1:46:37,  4.60it/s]"
     ]
    },
    {
     "name": "stdout",
     "output_type": "stream",
     "text": [
      "Partial Empirical Reward Distribution: {2.5e-05: 0.8714642262895175, 1: 0.12104825291181365, 32: 0.007279534109816971, 1024: 0.00020798668885191348}\n"
     ]
    },
    {
     "name": "stderr",
     "output_type": "stream",
     "text": [
      "  2%|▏         | 701/30001 [03:03<2:05:11,  3.90it/s]"
     ]
    },
    {
     "name": "stdout",
     "output_type": "stream",
     "text": [
      "Partial Empirical Reward Distribution: {2.5e-05: 0.875, 1: 0.11751069900142654, 32: 0.007310984308131241, 1024: 0.0001783166904422254}\n"
     ]
    },
    {
     "name": "stderr",
     "output_type": "stream",
     "text": [
      "  3%|▎         | 802/30001 [03:25<1:36:45,  5.03it/s]"
     ]
    },
    {
     "name": "stdout",
     "output_type": "stream",
     "text": [
      "Partial Empirical Reward Distribution: {2.5e-05: 0.8779650436953808, 1: 0.11470037453183521, 32: 0.00717852684144819, 1024: 0.00015605493133583021}\n"
     ]
    },
    {
     "name": "stderr",
     "output_type": "stream",
     "text": [
      "  3%|▎         | 902/30001 [03:43<1:07:16,  7.21it/s]"
     ]
    },
    {
     "name": "stdout",
     "output_type": "stream",
     "text": [
      "Partial Empirical Reward Distribution: {2.5e-05: 0.8816592674805771, 1: 0.11084905660377359, 32: 0.007352941176470588, 1024: 0.00013873473917869035}\n"
     ]
    },
    {
     "name": "stderr",
     "output_type": "stream",
     "text": [
      "  3%|▎         | 1000/30001 [04:02<1:39:42,  4.85it/s]"
     ]
    },
    {
     "name": "stdout",
     "output_type": "stream",
     "text": [
      "Partial Empirical Reward Distribution: {2.5e-05: 0.8826173826173827, 1: 0.11038961038961038, 32: 0.006868131868131868, 1024: 0.00012487512487512488}\n"
     ]
    },
    {
     "name": "stderr",
     "output_type": "stream",
     "text": [
      "  3%|▎         | 1001/30001 [04:04<4:41:05,  1.72it/s]"
     ]
    },
    {
     "name": "stdout",
     "output_type": "stream",
     "text": [
      "Agent checkpoint saved at iteration 1000 in 7.\n",
      "Model checkpoint saved at iteration 1000 in 7.\n"
     ]
    },
    {
     "name": "stderr",
     "output_type": "stream",
     "text": [
      "  4%|▎         | 1102/30001 [04:22<1:38:30,  4.89it/s]"
     ]
    },
    {
     "name": "stdout",
     "output_type": "stream",
     "text": [
      "Partial Empirical Reward Distribution: {2.5e-05: 0.8834014532243415, 1: 0.10910535876475931, 32: 0.00715258855585831, 1024: 0.00011353315168029064, 243: 0.00022706630336058128}\n"
     ]
    },
    {
     "name": "stderr",
     "output_type": "stream",
     "text": [
      "  4%|▍         | 1202/30001 [04:41<1:31:21,  5.25it/s]"
     ]
    },
    {
     "name": "stdout",
     "output_type": "stream",
     "text": [
      "Partial Empirical Reward Distribution: {2.5e-05: 0.8847835137385512, 1: 0.1079308909242298, 32: 0.006973355537052456, 1024: 0.00010407993338884263, 243: 0.00020815986677768527}\n"
     ]
    },
    {
     "name": "stderr",
     "output_type": "stream",
     "text": [
      "  4%|▍         | 1302/30001 [04:58<1:02:53,  7.61it/s]"
     ]
    },
    {
     "name": "stdout",
     "output_type": "stream",
     "text": [
      "Partial Empirical Reward Distribution: {2.5e-05: 0.8835511145272867, 1: 0.10885857033051499, 32: 0.007302075326671791, 1024: 9.607993850883935e-05, 243: 0.0001921598770176787}\n"
     ]
    },
    {
     "name": "stderr",
     "output_type": "stream",
     "text": [
      "  5%|▍         | 1402/30001 [05:12<1:16:34,  6.22it/s]"
     ]
    },
    {
     "name": "stdout",
     "output_type": "stream",
     "text": [
      "Partial Empirical Reward Distribution: {2.5e-05: 0.8822269807280514, 1: 0.10974304068522484, 32: 0.007673090649536046, 1024: 8.922198429693076e-05, 243: 0.0002676659528907923}\n"
     ]
    },
    {
     "name": "stderr",
     "output_type": "stream",
     "text": [
      "  5%|▌         | 1502/30001 [05:27<1:36:18,  4.93it/s]"
     ]
    },
    {
     "name": "stdout",
     "output_type": "stream",
     "text": [
      "Partial Empirical Reward Distribution: {2.5e-05: 0.8838274483677548, 1: 0.1080946035976016, 32: 0.007661558960692871, 1024: 8.327781479013991e-05, 243: 0.00033311125916055963}\n"
     ]
    },
    {
     "name": "stderr",
     "output_type": "stream",
     "text": [
      "  5%|▌         | 1602/30001 [05:50<1:17:13,  6.13it/s]"
     ]
    },
    {
     "name": "stdout",
     "output_type": "stream",
     "text": [
      "Partial Empirical Reward Distribution: {2.5e-05: 0.8855402873204248, 1: 0.10641786383510306, 32: 0.007417239225484072, 1024: 7.807620237351655e-05, 243: 0.0005465334166146158}\n"
     ]
    },
    {
     "name": "stderr",
     "output_type": "stream",
     "text": [
      "  6%|▌         | 1701/30001 [06:04<46:20, 10.18it/s]  "
     ]
    },
    {
     "name": "stdout",
     "output_type": "stream",
     "text": [
      "Partial Empirical Reward Distribution: {2.5e-05: 0.8896972369194591, 1: 0.10258671369782481, 32: 0.007128159905937684, 1024: 7.348618459729571e-05, 243: 0.00051440329218107}\n"
     ]
    },
    {
     "name": "stderr",
     "output_type": "stream",
     "text": [
      "  6%|▌         | 1802/30001 [06:16<1:06:17,  7.09it/s]"
     ]
    },
    {
     "name": "stdout",
     "output_type": "stream",
     "text": [
      "Partial Empirical Reward Distribution: {2.5e-05: 0.8955441421432537, 1: 0.0971682398667407, 32: 0.0067323709050527486, 1024: 6.94058856191005e-05, 243: 0.0004858411993337035}\n"
     ]
    },
    {
     "name": "stderr",
     "output_type": "stream",
     "text": [
      "  6%|▋         | 1903/30001 [06:27<46:39, 10.04it/s]  "
     ]
    },
    {
     "name": "stdout",
     "output_type": "stream",
     "text": [
      "Partial Empirical Reward Distribution: {2.5e-05: 0.9007101525512888, 1: 0.09238558653340347, 32: 0.006378221988427144, 1024: 6.575486586007364e-05, 243: 0.0004602840610205155}\n"
     ]
    },
    {
     "name": "stderr",
     "output_type": "stream",
     "text": [
      "  7%|▋         | 1999/30001 [06:37<46:49,  9.97it/s]"
     ]
    },
    {
     "name": "stdout",
     "output_type": "stream",
     "text": [
      "Partial Empirical Reward Distribution: {2.5e-05: 0.905672163918041, 1: 0.08776861569215393, 32: 0.006059470264867566, 1024: 6.24687656171914e-05, 243: 0.00043728135932033984}\n"
     ]
    },
    {
     "name": "stderr",
     "output_type": "stream",
     "text": [
      "  7%|▋         | 2001/30001 [06:39<3:39:26,  2.13it/s]"
     ]
    },
    {
     "name": "stdout",
     "output_type": "stream",
     "text": [
      "Agent checkpoint saved at iteration 2000 in 7.\n",
      "Model checkpoint saved at iteration 2000 in 7.\n"
     ]
    },
    {
     "name": "stderr",
     "output_type": "stream",
     "text": [
      "  7%|▋         | 2102/30001 [06:48<45:42, 10.17it/s]  "
     ]
    },
    {
     "name": "stdout",
     "output_type": "stream",
     "text": [
      "Partial Empirical Reward Distribution: {2.5e-05: 0.910102332222751, 1: 0.08365064255116611, 32: 0.00577106139933365, 1024: 5.949547834364588e-05, 243: 0.0004164683484055212}\n"
     ]
    },
    {
     "name": "stderr",
     "output_type": "stream",
     "text": [
      "  7%|▋         | 2201/30001 [06:58<44:11, 10.48it/s]"
     ]
    },
    {
     "name": "stdout",
     "output_type": "stream",
     "text": [
      "Partial Empirical Reward Distribution: {2.5e-05: 0.9141299409359382, 1: 0.07990686051794639, 32: 0.005508859609268515, 1024: 5.679236710586097e-05, 243: 0.0003975465697410268}\n"
     ]
    },
    {
     "name": "stderr",
     "output_type": "stream",
     "text": [
      "  8%|▊         | 2302/30001 [07:08<51:09,  9.02it/s]"
     ]
    },
    {
     "name": "stdout",
     "output_type": "stream",
     "text": [
      "Partial Empirical Reward Distribution: {2.5e-05: 0.9177531508039982, 1: 0.07654280747501087, 32: 0.005269448066058236, 1024: 5.432420686657975e-05, 243: 0.00038026944806605824}\n"
     ]
    },
    {
     "name": "stderr",
     "output_type": "stream",
     "text": [
      "  8%|▊         | 2402/30001 [07:18<44:59, 10.22it/s]"
     ]
    },
    {
     "name": "stdout",
     "output_type": "stream",
     "text": [
      "Partial Empirical Reward Distribution: {2.5e-05: 0.9210745522698875, 1: 0.07340691378592253, 32: 0.00510204081632653, 1024: 5.2061640982923784e-05, 243: 0.00036443148688046647}\n"
     ]
    },
    {
     "name": "stderr",
     "output_type": "stream",
     "text": [
      "  8%|▊         | 2502/30001 [07:29<48:31,  9.45it/s]"
     ]
    },
    {
     "name": "stdout",
     "output_type": "stream",
     "text": [
      "Partial Empirical Reward Distribution: {2.5e-05: 0.9241303478608557, 1: 0.07057177129148341, 32: 0.004898040783686526, 1024: 4.998000799680128e-05, 243: 0.00034986005597760896}\n"
     ]
    },
    {
     "name": "stderr",
     "output_type": "stream",
     "text": [
      "  9%|▊         | 2602/30001 [07:39<48:22,  9.44it/s]"
     ]
    },
    {
     "name": "stdout",
     "output_type": "stream",
     "text": [
      "Partial Empirical Reward Distribution: {2.5e-05: 0.9268069973087274, 1: 0.06809880815071126, 32: 0.004709727028066129, 1024: 4.805843906189927e-05, 243: 0.0003364090734332949}\n"
     ]
    },
    {
     "name": "stderr",
     "output_type": "stream",
     "text": [
      "  9%|▉         | 2702/30001 [07:48<40:30, 11.23it/s]"
     ]
    },
    {
     "name": "stdout",
     "output_type": "stream",
     "text": [
      "Partial Empirical Reward Distribution: {2.5e-05: 0.9294705664568679, 1: 0.0656238430211033, 32: 0.004535357275083303, 1024: 4.6279155868196966e-05, 243: 0.00032395409107737876}\n"
     ]
    },
    {
     "name": "stderr",
     "output_type": "stream",
     "text": [
      "  9%|▉         | 2801/30001 [07:58<44:15, 10.24it/s]"
     ]
    },
    {
     "name": "stdout",
     "output_type": "stream",
     "text": [
      "Partial Empirical Reward Distribution: {2.5e-05: 0.9317654409139593, 1: 0.06350410567654409, 32: 0.004373438057836487, 1024: 4.4626918957515175e-05, 243: 0.0003123884327026062}\n"
     ]
    },
    {
     "name": "stderr",
     "output_type": "stream",
     "text": [
      " 10%|▉         | 2902/30001 [08:08<48:14,  9.36it/s]"
     ]
    },
    {
     "name": "stdout",
     "output_type": "stream",
     "text": [
      "Partial Empirical Reward Distribution: {2.5e-05: 0.9341175456739056, 1: 0.06131506377111341, 32: 0.0042226818338503965, 1024: 4.3088590141330577e-05, 243: 0.000301620130989314}\n"
     ]
    },
    {
     "name": "stderr",
     "output_type": "stream",
     "text": [
      " 10%|▉         | 3000/30001 [08:18<45:46,  9.83it/s]"
     ]
    },
    {
     "name": "stdout",
     "output_type": "stream",
     "text": [
      "Partial Empirical Reward Distribution: {2.5e-05: 0.9361046317894035, 1: 0.05948017327557481, 32: 0.004081972675774741, 1024: 4.165278240586471e-05, 243: 0.00029156947684105296}\n"
     ]
    },
    {
     "name": "stderr",
     "output_type": "stream",
     "text": [
      " 10%|█         | 3002/30001 [08:21<4:40:54,  1.60it/s]"
     ]
    },
    {
     "name": "stdout",
     "output_type": "stream",
     "text": [
      "Agent checkpoint saved at iteration 3000 in 7.\n",
      "Model checkpoint saved at iteration 3000 in 7.\n"
     ]
    },
    {
     "name": "stderr",
     "output_type": "stream",
     "text": [
      " 10%|█         | 3102/30001 [08:31<44:02, 10.18it/s]  "
     ]
    },
    {
     "name": "stdout",
     "output_type": "stream",
     "text": [
      "Partial Empirical Reward Distribution: {2.5e-05: 0.9380844888745566, 1: 0.05764269590454692, 32: 0.0039503386004514675, 1024: 4.0309577555627215e-05, 243: 0.0002821670428893905}\n"
     ]
    },
    {
     "name": "stderr",
     "output_type": "stream",
     "text": [
      " 11%|█         | 3203/30001 [08:41<43:41, 10.22it/s]"
     ]
    },
    {
     "name": "stdout",
     "output_type": "stream",
     "text": [
      "Partial Empirical Reward Distribution: {2.5e-05: 0.9399796938456733, 1: 0.05588097469540768, 32: 0.0038269290846610435, 1024: 3.9050296782255544e-05, 243: 0.00027335207747578884}\n"
     ]
    },
    {
     "name": "stderr",
     "output_type": "stream",
     "text": [
      " 11%|█         | 3302/30001 [08:51<40:24, 11.01it/s]"
     ]
    },
    {
     "name": "stdout",
     "output_type": "stream",
     "text": [
      "Partial Empirical Reward Distribution: {2.5e-05: 0.9417979400181763, 1: 0.054188124810663436, 32: 0.0037109966676764617, 1024: 3.78673129354741e-05, 243: 0.0002650711905483187}\n"
     ]
    },
    {
     "name": "stderr",
     "output_type": "stream",
     "text": [
      " 11%|█▏        | 3402/30001 [09:01<42:20, 10.47it/s]"
     ]
    },
    {
     "name": "stdout",
     "output_type": "stream",
     "text": [
      "Partial Empirical Reward Distribution: {2.5e-05: 0.9435092619817701, 1: 0.052594825051455456, 32: 0.003601881799470744, 1024: 3.675389591296677e-05, 243: 0.0002572772713907674}\n"
     ]
    },
    {
     "name": "stderr",
     "output_type": "stream",
     "text": [
      " 12%|█▏        | 3501/30001 [09:11<43:10, 10.23it/s]"
     ]
    },
    {
     "name": "stdout",
     "output_type": "stream",
     "text": [
      "Partial Empirical Reward Distribution: {2.5e-05: 0.9450871179662953, 1: 0.051128249071693804, 32: 0.0034990002856326763, 1024: 3.570408454727221e-05, 243: 0.0002499285918309055}\n"
     ]
    },
    {
     "name": "stderr",
     "output_type": "stream",
     "text": [
      " 12%|█▏        | 3603/30001 [09:21<43:00, 10.23it/s]"
     ]
    },
    {
     "name": "stdout",
     "output_type": "stream",
     "text": [
      "Partial Empirical Reward Distribution: {2.5e-05: 0.9464732018883644, 1: 0.04984726464870869, 32: 0.003401832824215496, 1024: 3.471257983893363e-05, 243: 0.0002429880588725354}\n"
     ]
    },
    {
     "name": "stderr",
     "output_type": "stream",
     "text": [
      " 12%|█▏        | 3703/30001 [09:30<41:11, 10.64it/s]"
     ]
    },
    {
     "name": "stdout",
     "output_type": "stream",
     "text": [
      "Partial Empirical Reward Distribution: {2.5e-05: 0.9479194812212915, 1: 0.04850040529586598, 32: 0.003309916238854364, 1024: 3.377465549851391e-05, 243: 0.0002364225884895974}\n"
     ]
    },
    {
     "name": "stderr",
     "output_type": "stream",
     "text": [
      " 13%|█▎        | 3803/30001 [09:40<42:29, 10.27it/s]"
     ]
    },
    {
     "name": "stdout",
     "output_type": "stream",
     "text": [
      "Partial Empirical Reward Distribution: {2.5e-05: 0.9492896606156275, 1: 0.04722441462772955, 32: 0.0032228360957642726, 1024: 3.288608260983952e-05, 243: 0.00023020257826887662}\n"
     ]
    },
    {
     "name": "stderr",
     "output_type": "stream",
     "text": [
      " 13%|█▎        | 3902/30001 [09:49<44:40,  9.74it/s]"
     ]
    },
    {
     "name": "stdout",
     "output_type": "stream",
     "text": [
      "Partial Empirical Reward Distribution: {2.5e-05: 0.950589592412202, 1: 0.0460138426044604, 32: 0.003140220456293258, 1024: 3.204306588054345e-05, 243: 0.00022430146116380416}\n"
     ]
    },
    {
     "name": "stderr",
     "output_type": "stream",
     "text": [
      " 13%|█▎        | 3999/30001 [09:59<43:32,  9.95it/s]"
     ]
    },
    {
     "name": "stdout",
     "output_type": "stream",
     "text": [
      "Partial Empirical Reward Distribution: {2.5e-05: 0.951824543864034, 1: 0.04486378405398651, 32: 0.0030617345663584102, 1024: 3.124218945263684e-05, 243: 0.0002186953261684579}\n"
     ]
    },
    {
     "name": "stderr",
     "output_type": "stream",
     "text": [
      " 13%|█▎        | 4001/30001 [10:03<4:38:56,  1.55it/s]"
     ]
    },
    {
     "name": "stdout",
     "output_type": "stream",
     "text": [
      "Agent checkpoint saved at iteration 4000 in 7.\n",
      "Model checkpoint saved at iteration 4000 in 7.\n"
     ]
    },
    {
     "name": "stderr",
     "output_type": "stream",
     "text": [
      " 14%|█▎        | 4102/30001 [10:13<46:02,  9.38it/s]  "
     ]
    },
    {
     "name": "stdout",
     "output_type": "stream",
     "text": [
      "Partial Empirical Reward Distribution: {2.5e-05: 0.9529992684711046, 1: 0.04376981224091685, 32: 0.002987076322848086, 1024: 3.0480370641307e-05, 243: 0.000213362594489149}\n"
     ]
    },
    {
     "name": "stderr",
     "output_type": "stream",
     "text": [
      " 14%|█▍        | 4202/30001 [10:22<39:34, 10.86it/s]"
     ]
    },
    {
     "name": "stdout",
     "output_type": "stream",
     "text": [
      "Partial Empirical Reward Distribution: {2.5e-05: 0.9541180671268745, 1: 0.042727921923351585, 32: 0.0029159723875267795, 1024: 2.9754820280885503e-05, 243: 0.00020828374196619852}\n"
     ]
    },
    {
     "name": "stderr",
     "output_type": "stream",
     "text": [
      " 14%|█▍        | 4302/30001 [10:32<38:50, 11.03it/s]"
     ]
    },
    {
     "name": "stdout",
     "output_type": "stream",
     "text": [
      "Partial Empirical Reward Distribution: {2.5e-05: 0.9551848407347129, 1: 0.041734480353406184, 32: 0.0028481748430597537, 1024: 2.9063008602650547e-05, 243: 0.00020344106021855384}\n"
     ]
    },
    {
     "name": "stderr",
     "output_type": "stream",
     "text": [
      " 15%|█▍        | 4403/30001 [10:42<39:26, 10.82it/s]"
     ]
    },
    {
     "name": "stdout",
     "output_type": "stream",
     "text": [
      "Partial Empirical Reward Distribution: {2.5e-05: 0.9562031356509885, 1: 0.0407861849579641, 32: 0.0027834583049306974, 1024: 2.8402635764598956e-05, 243: 0.00019881845035219268}\n"
     ]
    },
    {
     "name": "stderr",
     "output_type": "stream",
     "text": [
      " 15%|█▌        | 4503/30001 [10:52<38:35, 11.01it/s]"
     ]
    },
    {
     "name": "stdout",
     "output_type": "stream",
     "text": [
      "Partial Empirical Reward Distribution: {2.5e-05: 0.9571761830704288, 1: 0.03988002666074206, 32: 0.0027216174183514776, 1024: 2.7771606309708954e-05, 243: 0.00019440124416796267}\n"
     ]
    },
    {
     "name": "stderr",
     "output_type": "stream",
     "text": [
      " 15%|█▌        | 4602/30001 [11:01<41:10, 10.28it/s]"
     ]
    },
    {
     "name": "stdout",
     "output_type": "stream",
     "text": [
      "Partial Empirical Reward Distribution: {2.5e-05: 0.9581069332753749, 1: 0.039013257987394044, 32: 0.0026624646815909584, 1024: 2.716800695500978e-05, 243: 0.00019017604868506847}\n"
     ]
    },
    {
     "name": "stderr",
     "output_type": "stream",
     "text": [
      " 16%|█▌        | 4703/30001 [11:11<40:54, 10.31it/s]"
     ]
    },
    {
     "name": "stdout",
     "output_type": "stream",
     "text": [
      "Partial Empirical Reward Distribution: {2.5e-05: 0.9589980855137205, 1: 0.03818336524143799, 32: 0.0026058285471176348, 1024: 2.6590087215486065e-05, 243: 0.00018613061050840247}\n"
     ]
    },
    {
     "name": "stderr",
     "output_type": "stream",
     "text": [
      " 16%|█▌        | 4801/30001 [11:20<40:31, 10.37it/s]"
     ]
    },
    {
     "name": "stdout",
     "output_type": "stream",
     "text": [
      "Partial Empirical Reward Distribution: {2.5e-05: 0.9598521141428868, 1: 0.037388044157467194, 32: 0.0025515517600499895, 1024: 2.603624244948969e-05, 243: 0.00018225369714642783}\n"
     ]
    },
    {
     "name": "stderr",
     "output_type": "stream",
     "text": [
      " 16%|█▋        | 4903/30001 [11:30<43:05,  9.71it/s]"
     ]
    },
    {
     "name": "stdout",
     "output_type": "stream",
     "text": [
      "Partial Empirical Reward Distribution: {2.5e-05: 0.9606712915731483, 1: 0.03662517853499286, 32: 0.002499489900020404, 1024: 2.550499897980004e-05, 243: 0.0001785349928586003}\n"
     ]
    },
    {
     "name": "stderr",
     "output_type": "stream",
     "text": [
      " 17%|█▋        | 4999/30001 [11:40<40:54, 10.19it/s]"
     ]
    },
    {
     "name": "stdout",
     "output_type": "stream",
     "text": [
      "Partial Empirical Reward Distribution: {2.5e-05: 0.9614577084583084, 1: 0.03589282143571286, 32: 0.002449510097980404, 1024: 2.499500099980004e-05, 243: 0.00017496500699860028}\n"
     ]
    },
    {
     "name": "stderr",
     "output_type": "stream",
     "text": [
      " 17%|█▋        | 5003/30001 [11:45<3:56:29,  1.76it/s]"
     ]
    },
    {
     "name": "stdout",
     "output_type": "stream",
     "text": [
      "Agent checkpoint saved at iteration 5000 in 7.\n",
      "Model checkpoint saved at iteration 5000 in 7.\n"
     ]
    },
    {
     "name": "stderr",
     "output_type": "stream",
     "text": [
      " 17%|█▋        | 5102/30001 [11:54<40:36, 10.22it/s]  "
     ]
    },
    {
     "name": "stdout",
     "output_type": "stream",
     "text": [
      "Partial Empirical Reward Distribution: {2.5e-05: 0.9622132915114684, 1: 0.035189178592432854, 32: 0.002401489903940404, 1024: 2.450499901980004e-05, 243: 0.00017153499313860026}\n"
     ]
    },
    {
     "name": "stderr",
     "output_type": "stream",
     "text": [
      " 17%|█▋        | 5202/30001 [12:04<42:18,  9.77it/s]"
     ]
    },
    {
     "name": "stdout",
     "output_type": "stream",
     "text": [
      "Partial Empirical Reward Distribution: {2.5e-05: 0.9629398192655259, 1: 0.03451259373197462, 32: 0.0023553162853297443, 1024: 2.403383964622188e-05, 243: 0.00016823687752355316}\n"
     ]
    },
    {
     "name": "stderr",
     "output_type": "stream",
     "text": [
      " 18%|█▊        | 5302/30001 [12:13<37:54, 10.86it/s]"
     ]
    },
    {
     "name": "stdout",
     "output_type": "stream",
     "text": [
      "Partial Empirical Reward Distribution: {2.5e-05: 0.9636389360498019, 1: 0.03386153555932843, 32: 0.002310884738728542, 1024: 2.358045651763818e-05, 243: 0.00016506319562346728}\n"
     ]
    },
    {
     "name": "stderr",
     "output_type": "stream",
     "text": [
      " 18%|█▊        | 5402/30001 [12:23<43:15,  9.48it/s]"
     ]
    },
    {
     "name": "stdout",
     "output_type": "stream",
     "text": [
      "Partial Empirical Reward Distribution: {2.5e-05: 0.9643121644139974, 1: 0.03323458618774301, 32: 0.0022680985002777264, 1024: 2.3143862247731902e-05, 243: 0.0001620070357341233}\n"
     ]
    },
    {
     "name": "stderr",
     "output_type": "stream",
     "text": [
      " 18%|█▊        | 5503/30001 [12:33<37:57, 10.76it/s]"
     ]
    },
    {
     "name": "stdout",
     "output_type": "stream",
     "text": [
      "Partial Empirical Reward Distribution: {2.5e-05: 0.964960916197055, 1: 0.03263043083075804, 32: 0.002226867842210507, 1024: 2.272314124704599e-05, 243: 0.00015906198872932194}\n"
     ]
    },
    {
     "name": "stderr",
     "output_type": "stream",
     "text": [
      " 19%|█▊        | 5603/30001 [12:42<39:36, 10.27it/s]"
     ]
    },
    {
     "name": "stdout",
     "output_type": "stream",
     "text": [
      "Partial Empirical Reward Distribution: {2.5e-05: 0.9655865024102839, 1: 0.03204784859846456, 32: 0.00218710944474201, 1024: 2.231744331369398e-05, 243: 0.0001562221031958579}\n"
     ]
    },
    {
     "name": "stderr",
     "output_type": "stream",
     "text": [
      " 19%|█▉        | 5703/30001 [12:52<37:02, 10.93it/s]"
     ]
    },
    {
     "name": "stdout",
     "output_type": "stream",
     "text": [
      "Partial Empirical Reward Distribution: {2.5e-05: 0.9661901420803368, 1: 0.031485704262410104, 32: 0.0021487458340641993, 1024: 2.192597789861428e-05, 243: 0.00015348184529029996}\n"
     ]
    },
    {
     "name": "stderr",
     "output_type": "stream",
     "text": [
      " 19%|█▉        | 5803/30001 [13:01<38:35, 10.45it/s]"
     ]
    },
    {
     "name": "stdout",
     "output_type": "stream",
     "text": [
      "Partial Empirical Reward Distribution: {2.5e-05: 0.9667729701775556, 1: 0.030942940872263403, 32: 0.0021117048784692295, 1024: 2.154800896397173e-05, 243: 0.0001508360627478021}\n"
     ]
    },
    {
     "name": "stderr",
     "output_type": "stream",
     "text": [
      " 20%|█▉        | 5902/30001 [13:12<38:09, 10.53it/s]  "
     ]
    },
    {
     "name": "stdout",
     "output_type": "stream",
     "text": [
      "Partial Empirical Reward Distribution: {2.5e-05: 0.9667641077783427, 1: 0.030990510083036774, 32: 0.0020759193357058124, 1024: 2.1182850364345025e-05, 243: 0.0001482799525504152}\n"
     ]
    },
    {
     "name": "stderr",
     "output_type": "stream",
     "text": [
      " 20%|█▉        | 6000/30001 [13:24<43:49,  9.13it/s]  "
     ]
    },
    {
     "name": "stdout",
     "output_type": "stream",
     "text": [
      "Partial Empirical Reward Distribution: {2.5e-05: 0.9670471588068655, 1: 0.030724045992334612, 32: 0.0020621563072821198, 1024: 2.0829861689718382e-05, 243: 0.00014580903182802866}\n"
     ]
    },
    {
     "name": "stderr",
     "output_type": "stream",
     "text": [
      " 20%|██        | 6001/30001 [13:29<8:33:05,  1.28s/it]"
     ]
    },
    {
     "name": "stdout",
     "output_type": "stream",
     "text": [
      "Agent checkpoint saved at iteration 6000 in 7.\n",
      "Model checkpoint saved at iteration 6000 in 7.\n"
     ]
    },
    {
     "name": "stderr",
     "output_type": "stream",
     "text": [
      " 20%|██        | 6103/30001 [13:39<39:07, 10.18it/s]  "
     ]
    },
    {
     "name": "stdout",
     "output_type": "stream",
     "text": [
      "Partial Empirical Reward Distribution: {2.5e-05: 0.9675872807736436, 1: 0.030220455663006063, 32: 0.0020283560072119323, 1024: 2.0488444517292246e-05, 243: 0.00014341911162104573}\n"
     ]
    },
    {
     "name": "stderr",
     "output_type": "stream",
     "text": [
      " 21%|██        | 6203/30001 [13:48<39:28, 10.05it/s]"
     ]
    },
    {
     "name": "stdout",
     "output_type": "stream",
     "text": [
      "Partial Empirical Reward Distribution: {2.5e-05: 0.9681099822609257, 1: 0.02973310756329624, 32: 0.0019956458635703917, 1024: 2.0158039025963555e-05, 243: 0.00014110627318174489}\n"
     ]
    },
    {
     "name": "stderr",
     "output_type": "stream",
     "text": [
      " 21%|██        | 6265/30001 [13:54<36:09, 10.94it/s]"
     ]
    }
   ],
   "source": [
    "class Args:\n",
    "    save_path = 'results-v3/7-node-v2'\n",
    "    device = 'cpu'\n",
    "    progress = True  \n",
    "    method = 'flownet'\n",
    "    learning_rate = 5e-4\n",
    "    opt = 'adam'\n",
    "    adam_beta1 = 0.9\n",
    "    adam_beta2 = 0.999\n",
    "    momentum = 0.9  # SGD with momentum\n",
    "    mbsize = 8  # number of parallel environments (trajectories) are collected by one agent (One Agent's model is shared in Many Environments). \n",
    "    train_to_sample_ratio = 1.0  # determines how many times the agent should update its model (train) for each set of data it collects from the environment. \n",
    "    clip_grad_norm = 0.\n",
    "    n_hid = 256  # number of hidden units in each hidden layer\n",
    "    n_layers = 3\n",
    "    n_train_steps = 30000 \n",
    "    num_empirical_loss = 200000  # number of samples used to compute the empirical distribution loss during evaluation.\n",
    "    \n",
    "    \n",
    "    # Env\n",
    "    func = 'oscillator'\n",
    "    horizon = 8  # 4*2\n",
    "    nnode = 7\n",
    "    ndim = nnode*nnode \n",
    "    multiplier = 3\n",
    "    \n",
    "    # Flownet\n",
    "    bootstrap_tau = 0.0  # no bootstrapping,target network isn't being updated gradually but possibly replaced entirely at some point.\n",
    "    replay_strategy = 'top_k'  # 'top_k' or 'none'\n",
    "    replay_sample_size = 5  # number of experiences to sample from the replay buffer at each update step.\n",
    "    replay_buf_size = 100  #  size of the replay buffer, which stores past experiences for the agent to learn from.\n",
    "    log_reg_c = 2.5e-5\n",
    "\n",
    "\n",
    "\n",
    "args = Args()\n",
    "torch.set_num_threads(200)\n",
    "main(args)\n",
    "\n"
   ]
  },
  {
   "cell_type": "code",
   "execution_count": null,
   "metadata": {},
   "outputs": [],
   "source": []
  },
  {
   "cell_type": "code",
   "execution_count": null,
   "metadata": {},
   "outputs": [],
   "source": []
  },
  {
   "cell_type": "code",
   "execution_count": null,
   "metadata": {},
   "outputs": [],
   "source": []
  },
  {
   "cell_type": "code",
   "execution_count": null,
   "metadata": {},
   "outputs": [],
   "source": [
    "import matplotlib.pyplot as plt\n",
    "import numpy as np\n",
    "\n",
    "# Assuming all_losses, all_visited, empirical_distrib_losses are lists of lists or arrays\n",
    "\n",
    "# Plot the losses\n",
    "if all_losses:\n",
    "    all_losses_array = np.array(all_losses)\n",
    "    plt.figure(figsize=(12, 6))\n",
    "    for i in range(all_losses_array.shape[1]):\n",
    "        plt.plot(all_losses_array[:, i], label=f'Loss {i+1}')\n",
    "    plt.xlabel('Training Step')\n",
    "    plt.ylabel('Loss')\n",
    "    plt.title('Training Losses Over Time')\n",
    "    plt.legend()\n",
    "    plt.show()\n"
   ]
  },
  {
   "cell_type": "code",
   "execution_count": null,
   "metadata": {},
   "outputs": [],
   "source": [
    "# Sort visited states by reward in descending order\n",
    "visited_sorted_by_reward = sorted(all_visited_done, key=lambda x: x[1], reverse=True)\n",
    "\n",
    "# Sample the top 10 states with the highest rewards\n",
    "top_states = visited_sorted_by_reward[:20]\n",
    "\n",
    "print(\"Top 10 States with Highest Rewards:\")\n",
    "for i, (state, reward) in enumerate(top_states):\n",
    "    print(f\"State {i+1}: {state}, Reward: {reward}\")\n"
   ]
  },
  {
   "cell_type": "code",
   "execution_count": null,
   "metadata": {},
   "outputs": [],
   "source": []
  },
  {
   "cell_type": "code",
   "execution_count": null,
   "metadata": {},
   "outputs": [],
   "source": [
    "import pickle\n",
    "import gzip\n",
    "import os\n",
    "\n",
    "args = Args()\n",
    "\n",
    "env = GridEnv(args.horizon, args.ndim, func=f)\n",
    "\n",
    "agent_path = \"/home/dannyhuang/gflownet/frontline/results-v3/7-node/agent_checkpoint_30000.pkl.gz\"\n",
    "print(agent_path)\n",
    "\n",
    "# Load the trained_agent object from the file\n",
    "try:\n",
    "    with gzip.open(agent_path, 'rb') as f:\n",
    "        trained_agent = pickle.load(f)\n",
    "    print(trained_agent)\n",
    "except FileNotFoundError:\n",
    "    print(f\"Error: The file {agent_path} was not found.\")\n",
    "except Exception as e:\n",
    "    print(f\"An error occurred while loading the file: {str(e)}\")"
   ]
  },
  {
   "cell_type": "code",
   "execution_count": null,
   "metadata": {},
   "outputs": [],
   "source": [
    "\n"
   ]
  },
  {
   "cell_type": "code",
   "execution_count": null,
   "metadata": {},
   "outputs": [],
   "source": []
  },
  {
   "cell_type": "code",
   "execution_count": null,
   "metadata": {},
   "outputs": [],
   "source": []
  },
  {
   "cell_type": "code",
   "execution_count": null,
   "metadata": {},
   "outputs": [],
   "source": []
  },
  {
   "cell_type": "code",
   "execution_count": null,
   "metadata": {},
   "outputs": [],
   "source": [
    "import numpy as np\n",
    "import matplotlib.pyplot as plt\n",
    "from scipy.integrate import odeint\n",
    "import ipywidgets as widgets\n",
    "from ipywidgets import interact\n",
    "\n",
    "delta = 0.0001\n",
    "\n",
    "# Define the sigmoid function\n",
    "def sigmoid(z):\n",
    "    return 1 / (1 + np.exp(-z))\n",
    "\n",
    "# Define the dynamical system for the n-node system with sigmoid\n",
    "def n_node_system_with_sigmoid(x, t, *weights):\n",
    "    nnode = int(np.sqrt(len(weights)))\n",
    "    M_tilde = np.array(weights).reshape((nnode, nnode))\n",
    "    \n",
    "    # Compute M_tilde * x\n",
    "    z = M_tilde.dot(x)\n",
    "    \n",
    "    # Apply sigmoid\n",
    "    sigmoid_z = sigmoid(z)\n",
    "    \n",
    "    # Compute the derivative\n",
    "    dxdt = sigmoid_z - x\n",
    "    return dxdt\n",
    "\n",
    "# Function to update plot and calculate reward\n",
    "def update_plot(*weights):\n",
    "    nnode = int(np.sqrt(len(weights)))\n",
    "    ndim = nnode * nnode\n",
    "\n",
    "    # Initial conditions\n",
    "    x0 = np.linspace(0, 1, nnode, endpoint=False)\n",
    "\n",
    "    # Define the time points\n",
    "    t = np.linspace(0, 20, 200)\n",
    "\n",
    "    # Solve ODE\n",
    "    sol = odeint(n_node_system_with_sigmoid, x0, t, args=tuple(weights))\n",
    "    \n",
    "    # Clear current plot\n",
    "    plt.clf()\n",
    "    \n",
    "    # Plot the results\n",
    "    for i in range(nnode):\n",
    "        plt.plot(t, sol[:, i], label=f'$x_{i+1}$')\n",
    "    plt.xlabel('Time')\n",
    "    plt.ylabel('Concentration')\n",
    "    plt.title(f'{nnode}-Node System Dynamics with Sigmoid')\n",
    "    plt.legend()\n",
    "    plt.grid(True)\n",
    "    plt.show()\n",
    "    \n",
    "    # Calculate reward based on the number of sharp peaks\n",
    "    reward = calculate_reward(sol)\n",
    "    print(f\"Reward: {reward}\")\n",
    "\n",
    "# Function to calculate reward based on the number of sharp peaks\n",
    "def calculate_reward(sol, delta=delta):\n",
    "    reward = 0\n",
    "    for i in range(sol.shape[1]):  # Loop through each time series x1, x2, ..., xn\n",
    "        x_i = sol[:, i]\n",
    "        dx_i = np.diff(x_i)  # First derivative approximation\n",
    "        peaks = 0\n",
    "        for j in range(1, len(dx_i)):\n",
    "            if dx_i[j-1] > 0 and dx_i[j] < 0:  # Detect a peak\n",
    "                sharpness = x_i[j] - (x_i[j-1] + x_i[j+1]) / 2\n",
    "                if sharpness > delta:  # Check if the peak is sharp\n",
    "                    peaks += 1\n",
    "        reward += peaks  # Add the number of sharp peaks as reward\n",
    "    return reward\n",
    "\n",
    "\n",
    "# # Example usage\n",
    "# nnode = 5  # Change this to set the number of nodes\n",
    "# ndim = nnode * nnode\n",
    "# test_weights = np.ones(ndim)\n",
    "# update_plot(*test_weights)\n",
    "\n",
    "# test_state = [3, 0, 0, 0, 1, 0, 0, 0, 1, 0, 0, 0, 0, 0, 0, 0, 0, 0, 1, 0, 0, 0, 1, 0, 0, 0, 0, 0, 0, 0, 0, 0, 0, \n",
    "# 0, 0, 0, 0, 0, 0, 0, 0, 0, 1, 0, 0, 0, 0, 0, 0]\n",
    "# test_weight = env.s2x(np.int32(test_state))\n",
    "# update_plot(*test_weight)\n",
    "\n",
    "\n",
    "\n",
    "\n",
    "# Create sliders for each weight\n",
    "import ipywidgets as widgets\n",
    "from ipywidgets import interactive\n",
    "from IPython.display import display\n",
    "\n",
    "# Initialize weights based on the test_state\n",
    "initial_weights = env.s2x(np.int32([3, 0, 0, 0, 1, 0, 0, 0, 1, 0, 0, 0, 0, 0, 0, 0, 0, 0, 1, 0, 0, 0, 1, 0, 0, 0, 0, 0, 0, 0, 0, 0, 0, 0, 0, 0, 0, 0, 0, 0, 0, 0, 1, 0, 0, 0, 0, 0, 0]))\n",
    "\n",
    "# Create sliders for all 49 weights\n",
    "sliders = [widgets.FloatSlider(value=initial_weights[i], min=-15, max=15, step=0.1, description=f'Weight {i+1}') for i in range(49)]\n",
    "\n",
    "# Create an output widget to display the plot\n",
    "out = widgets.Output()\n",
    "\n",
    "# Define the update function\n",
    "def update_plot_with_sliders(**w):\n",
    "    with out:\n",
    "        out.clear_output(wait=True)\n",
    "        new_weights = list(w.values())\n",
    "        update_plot(*new_weights)\n",
    "\n",
    "# Create the interactive plot\n",
    "interactive_plot = interactive(update_plot_with_sliders, **{f'w{i}': slider for i, slider in enumerate(sliders)})\n",
    "\n",
    "# Display the sliders and the plot\n",
    "display(widgets.VBox([interactive_plot, out]))\n",
    "\n",
    "# Initial plot update\n",
    "update_plot_with_sliders(**{f'w{i}': initial_weights[i] for i in range(49)})"
   ]
  },
  {
   "cell_type": "code",
   "execution_count": null,
   "metadata": {},
   "outputs": [],
   "source": [
    "initial_weights"
   ]
  },
  {
   "cell_type": "code",
   "execution_count": null,
   "metadata": {},
   "outputs": [],
   "source": []
  }
 ],
 "metadata": {
  "kernelspec": {
   "display_name": "Python 3 (ipykernel)",
   "language": "python",
   "name": "python3"
  },
  "language_info": {
   "codemirror_mode": {
    "name": "ipython",
    "version": 3
   },
   "file_extension": ".py",
   "mimetype": "text/x-python",
   "name": "python",
   "nbconvert_exporter": "python",
   "pygments_lexer": "ipython3",
   "version": "3.9.19"
  }
 },
 "nbformat": 4,
 "nbformat_minor": 4
}
